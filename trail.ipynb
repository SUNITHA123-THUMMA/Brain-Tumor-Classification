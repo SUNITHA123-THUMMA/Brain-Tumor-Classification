{
  "cells": [
    {
      "cell_type": "markdown",
      "metadata": {
        "id": "view-in-github",
        "colab_type": "text"
      },
      "source": [
        "<a href=\"https://colab.research.google.com/github/SUNITHA123-THUMMA/Brain-Tumor-Classification/blob/main/trail.ipynb\" target=\"_parent\"><img src=\"https://colab.research.google.com/assets/colab-badge.svg\" alt=\"Open In Colab\"/></a>"
      ]
    },
    {
      "cell_type": "markdown",
      "metadata": {
        "id": "qOCBaBPIaNf9"
      },
      "source": [
        "# Introduction"
      ]
    },
    {
      "cell_type": "markdown",
      "metadata": {
        "id": "7eXpVWpRAuzh"
      },
      "source": []
    },
    {
      "cell_type": "code",
      "execution_count": null,
      "metadata": {
        "colab": {
          "base_uri": "https://localhost:8080/",
          "height": 346
        },
        "id": "xh8GZ9VkCz6o",
        "outputId": "28ade020-ed57-4634-ab83-2e0aa9c70c98"
      },
      "outputs": [
        {
          "output_type": "error",
          "ename": "MessageError",
          "evalue": "ignored",
          "traceback": [
            "\u001b[0;31m---------------------------------------------------------------------------\u001b[0m",
            "\u001b[0;31mMessageError\u001b[0m                              Traceback (most recent call last)",
            "\u001b[0;32m<ipython-input-1-2efe61a3576d>\u001b[0m in \u001b[0;36m<cell line: 2>\u001b[0;34m()\u001b[0m\n\u001b[1;32m      1\u001b[0m \u001b[0;32mfrom\u001b[0m \u001b[0mgoogle\u001b[0m\u001b[0;34m.\u001b[0m\u001b[0mcolab\u001b[0m \u001b[0;32mimport\u001b[0m \u001b[0mdrive\u001b[0m\u001b[0;34m\u001b[0m\u001b[0;34m\u001b[0m\u001b[0m\n\u001b[0;32m----> 2\u001b[0;31m \u001b[0mdrive\u001b[0m\u001b[0;34m.\u001b[0m\u001b[0mmount\u001b[0m\u001b[0;34m(\u001b[0m\u001b[0;34m\"/content/gdrive/\"\u001b[0m\u001b[0;34m,\u001b[0m \u001b[0mforce_remount\u001b[0m\u001b[0;34m=\u001b[0m\u001b[0;32mTrue\u001b[0m\u001b[0;34m)\u001b[0m\u001b[0;34m\u001b[0m\u001b[0;34m\u001b[0m\u001b[0m\n\u001b[0m\u001b[1;32m      3\u001b[0m \u001b[0;31m#drive.mount('/content/gdrive/')\u001b[0m\u001b[0;34m\u001b[0m\u001b[0;34m\u001b[0m\u001b[0m\n",
            "\u001b[0;32m/usr/local/lib/python3.10/dist-packages/google/colab/drive.py\u001b[0m in \u001b[0;36mmount\u001b[0;34m(mountpoint, force_remount, timeout_ms, readonly)\u001b[0m\n\u001b[1;32m    101\u001b[0m \u001b[0;32mdef\u001b[0m \u001b[0mmount\u001b[0m\u001b[0;34m(\u001b[0m\u001b[0mmountpoint\u001b[0m\u001b[0;34m,\u001b[0m \u001b[0mforce_remount\u001b[0m\u001b[0;34m=\u001b[0m\u001b[0;32mFalse\u001b[0m\u001b[0;34m,\u001b[0m \u001b[0mtimeout_ms\u001b[0m\u001b[0;34m=\u001b[0m\u001b[0;36m120000\u001b[0m\u001b[0;34m,\u001b[0m \u001b[0mreadonly\u001b[0m\u001b[0;34m=\u001b[0m\u001b[0;32mFalse\u001b[0m\u001b[0;34m)\u001b[0m\u001b[0;34m:\u001b[0m\u001b[0;34m\u001b[0m\u001b[0;34m\u001b[0m\u001b[0m\n\u001b[1;32m    102\u001b[0m   \u001b[0;34m\"\"\"Mount your Google Drive at the specified mountpoint path.\"\"\"\u001b[0m\u001b[0;34m\u001b[0m\u001b[0;34m\u001b[0m\u001b[0m\n\u001b[0;32m--> 103\u001b[0;31m   return _mount(\n\u001b[0m\u001b[1;32m    104\u001b[0m       \u001b[0mmountpoint\u001b[0m\u001b[0;34m,\u001b[0m\u001b[0;34m\u001b[0m\u001b[0;34m\u001b[0m\u001b[0m\n\u001b[1;32m    105\u001b[0m       \u001b[0mforce_remount\u001b[0m\u001b[0;34m=\u001b[0m\u001b[0mforce_remount\u001b[0m\u001b[0;34m,\u001b[0m\u001b[0;34m\u001b[0m\u001b[0;34m\u001b[0m\u001b[0m\n",
            "\u001b[0;32m/usr/local/lib/python3.10/dist-packages/google/colab/drive.py\u001b[0m in \u001b[0;36m_mount\u001b[0;34m(mountpoint, force_remount, timeout_ms, ephemeral, readonly)\u001b[0m\n\u001b[1;32m    130\u001b[0m   )\n\u001b[1;32m    131\u001b[0m   \u001b[0;32mif\u001b[0m \u001b[0mephemeral\u001b[0m\u001b[0;34m:\u001b[0m\u001b[0;34m\u001b[0m\u001b[0;34m\u001b[0m\u001b[0m\n\u001b[0;32m--> 132\u001b[0;31m     _message.blocking_request(\n\u001b[0m\u001b[1;32m    133\u001b[0m         \u001b[0;34m'request_auth'\u001b[0m\u001b[0;34m,\u001b[0m \u001b[0mrequest\u001b[0m\u001b[0;34m=\u001b[0m\u001b[0;34m{\u001b[0m\u001b[0;34m'authType'\u001b[0m\u001b[0;34m:\u001b[0m \u001b[0;34m'dfs_ephemeral'\u001b[0m\u001b[0;34m}\u001b[0m\u001b[0;34m,\u001b[0m \u001b[0mtimeout_sec\u001b[0m\u001b[0;34m=\u001b[0m\u001b[0;32mNone\u001b[0m\u001b[0;34m\u001b[0m\u001b[0;34m\u001b[0m\u001b[0m\n\u001b[1;32m    134\u001b[0m     )\n",
            "\u001b[0;32m/usr/local/lib/python3.10/dist-packages/google/colab/_message.py\u001b[0m in \u001b[0;36mblocking_request\u001b[0;34m(request_type, request, timeout_sec, parent)\u001b[0m\n\u001b[1;32m    174\u001b[0m       \u001b[0mrequest_type\u001b[0m\u001b[0;34m,\u001b[0m \u001b[0mrequest\u001b[0m\u001b[0;34m,\u001b[0m \u001b[0mparent\u001b[0m\u001b[0;34m=\u001b[0m\u001b[0mparent\u001b[0m\u001b[0;34m,\u001b[0m \u001b[0mexpect_reply\u001b[0m\u001b[0;34m=\u001b[0m\u001b[0;32mTrue\u001b[0m\u001b[0;34m\u001b[0m\u001b[0;34m\u001b[0m\u001b[0m\n\u001b[1;32m    175\u001b[0m   )\n\u001b[0;32m--> 176\u001b[0;31m   \u001b[0;32mreturn\u001b[0m \u001b[0mread_reply_from_input\u001b[0m\u001b[0;34m(\u001b[0m\u001b[0mrequest_id\u001b[0m\u001b[0;34m,\u001b[0m \u001b[0mtimeout_sec\u001b[0m\u001b[0;34m)\u001b[0m\u001b[0;34m\u001b[0m\u001b[0;34m\u001b[0m\u001b[0m\n\u001b[0m",
            "\u001b[0;32m/usr/local/lib/python3.10/dist-packages/google/colab/_message.py\u001b[0m in \u001b[0;36mread_reply_from_input\u001b[0;34m(message_id, timeout_sec)\u001b[0m\n\u001b[1;32m    101\u001b[0m     ):\n\u001b[1;32m    102\u001b[0m       \u001b[0;32mif\u001b[0m \u001b[0;34m'error'\u001b[0m \u001b[0;32min\u001b[0m \u001b[0mreply\u001b[0m\u001b[0;34m:\u001b[0m\u001b[0;34m\u001b[0m\u001b[0;34m\u001b[0m\u001b[0m\n\u001b[0;32m--> 103\u001b[0;31m         \u001b[0;32mraise\u001b[0m \u001b[0mMessageError\u001b[0m\u001b[0;34m(\u001b[0m\u001b[0mreply\u001b[0m\u001b[0;34m[\u001b[0m\u001b[0;34m'error'\u001b[0m\u001b[0;34m]\u001b[0m\u001b[0;34m)\u001b[0m\u001b[0;34m\u001b[0m\u001b[0;34m\u001b[0m\u001b[0m\n\u001b[0m\u001b[1;32m    104\u001b[0m       \u001b[0;32mreturn\u001b[0m \u001b[0mreply\u001b[0m\u001b[0;34m.\u001b[0m\u001b[0mget\u001b[0m\u001b[0;34m(\u001b[0m\u001b[0;34m'data'\u001b[0m\u001b[0;34m,\u001b[0m \u001b[0;32mNone\u001b[0m\u001b[0;34m)\u001b[0m\u001b[0;34m\u001b[0m\u001b[0;34m\u001b[0m\u001b[0m\n\u001b[1;32m    105\u001b[0m \u001b[0;34m\u001b[0m\u001b[0m\n",
            "\u001b[0;31mMessageError\u001b[0m: Error: credential propagation was unsuccessful"
          ]
        }
      ],
      "source": [
        "from google.colab import drive\n",
        "drive.mount(\"/content/gdrive/\", force_remount=True)\n",
        "#drive.mount('/content/gdrive/')"
      ]
    },
    {
      "cell_type": "markdown",
      "source": [],
      "metadata": {
        "id": "lDvejunzmMkY"
      }
    },
    {
      "cell_type": "code",
      "execution_count": null,
      "metadata": {
        "id": "R7tg7Fp1C4d4"
      },
      "outputs": [],
      "source": [
        "import os\n",
        "root_path = 'gdrive/My Drive/' #MINI FINAL'\n",
        "print(os.getcwd())\n",
        "os.chdir(root_path)\n",
        "!ls"
      ]
    },
    {
      "cell_type": "code",
      "execution_count": null,
      "metadata": {
        "colab": {
          "base_uri": "https://localhost:8080/"
        },
        "id": "ef4voxBpEabF",
        "outputId": "fa7159cd-a6bc-4f13-fb8a-2168dd62cb34"
      },
      "outputs": [
        {
          "output_type": "stream",
          "name": "stdout",
          "text": [
            "/content/gdrive/My Drive\n"
          ]
        }
      ],
      "source": [
        "print(os.getcwd())"
      ]
    },
    {
      "cell_type": "markdown",
      "metadata": {
        "id": "ZAa46gkVaf1-"
      },
      "source": [
        "# Import Library"
      ]
    },
    {
      "cell_type": "code",
      "execution_count": null,
      "metadata": {
        "id": "Z50gYUkjPIJ4"
      },
      "outputs": [],
      "source": [
        "from tensorflow.keras.optimizers import Adam\n",
        "from tensorflow.keras.models import load_model, Model, save_model\n",
        "from tensorflow.keras.layers import *\n",
        "from tensorflow.keras.models import Sequential\n",
        "from tensorflow.keras import regularizers as rg\n",
        "from tensorflow.keras.applications.xception import Xception\n",
        "from tensorflow.keras import backend as K\n",
        "import numpy.random as rng\n",
        "import random\n",
        "\n",
        "from matplotlib import pyplot as plt\n",
        "import numpy as np\n",
        "#from datagenerator  import DataGenerator # train query set generator\n",
        "import tensorflow as tf\n",
        "from keras.utils import np_utils\n",
        "import tensorflow"
      ]
    },
    {
      "cell_type": "markdown",
      "metadata": {
        "id": "XhqIfEXzD_T7"
      },
      "source": [
        "There are Basically three parts in this workspace.\n",
        "\n",
        "\n",
        "1.   Data preparation\n",
        "2.   Sample/episodes generation\n",
        "3.   Model training\n",
        "\n",
        "\n",
        "1. Data preparation\n",
        "\n",
        "--.   Unzip image files\n",
        "--.   Read each folder (language) then each folder (alphabets) then each character , resize, reshape it and put on array form.\n",
        "\n"
      ]
    },
    {
      "cell_type": "markdown",
      "metadata": {
        "id": "dNuA8GnMFahH"
      },
      "source": [
        "# Data/sample generation"
      ]
    },
    {
      "cell_type": "code",
      "execution_count": null,
      "metadata": {
        "id": "MxnAch0Y507-"
      },
      "outputs": [],
      "source": [
        "import numpy as np\n",
        "import os\n",
        "import matplotlib.pyplot as plt\n",
        "from tqdm import tqdm\n",
        "#from scipy.misc import imresize\n",
        "import cv2"
      ]
    },
    {
      "cell_type": "code",
      "execution_count": null,
      "metadata": {
        "colab": {
          "base_uri": "https://localhost:8080/"
        },
        "id": "R6diWOMP7fbF",
        "outputId": "9c609e11-3f7b-441c-b831-3159be8af06d"
      },
      "outputs": [
        {
          "output_type": "stream",
          "name": "stdout",
          "text": [
            "folder1: ['LGG', 'HGG', 'Model']\n"
          ]
        }
      ],
      "source": [
        "path1 = \"DataSet\"\n",
        "folders_list = os.listdir(path1)\n",
        "print(\"folder1:\",folders_list)\n",
        "folders_list.sort()\n",
        "\n",
        "\n"
      ]
    },
    {
      "cell_type": "code",
      "execution_count": null,
      "metadata": {
        "colab": {
          "base_uri": "https://localhost:8080/"
        },
        "id": "x6WJb34kAU6S",
        "outputId": "da9eb9cd-e2e6-482a-88c0-914283869f04"
      },
      "outputs": [
        {
          "output_type": "stream",
          "name": "stderr",
          "text": [
            "100%|██████████| 3/3 [00:00<00:00, 227.03it/s]"
          ]
        },
        {
          "output_type": "stream",
          "name": "stdout",
          "text": [
            "HGG - 1 : 259\n",
            "LGG - 1 : 76\n",
            "Model - 1 : 0\n"
          ]
        },
        {
          "output_type": "stream",
          "name": "stderr",
          "text": [
            "\n"
          ]
        }
      ],
      "source": [
        "i=1\n",
        "for folder in tqdm(folders_list):\n",
        "        path1 = os.path.join(path, folder)\n",
        "        print(folder,'-',i,':',len(os.listdir(path1)))"
      ]
    },
    {
      "cell_type": "markdown",
      "metadata": {
        "id": "23mcXM8x6upw"
      },
      "source": [
        "# Load Data"
      ]
    },
    {
      "cell_type": "code",
      "execution_count": null,
      "metadata": {
        "id": "7d1SKU0bYvZK"
      },
      "outputs": [],
      "source": []
    },
    {
      "cell_type": "code",
      "execution_count": null,
      "metadata": {
        "id": "2kwHrfEA6IyX"
      },
      "outputs": [],
      "source": [
        "def loader(path):\n",
        "    sample_train = [];sample_val = [];sample_test = []\n",
        "    label1 = [] ;label2 = [] ;label3 = []\n",
        "\n",
        "    folders_list = os.listdir(path)\n",
        "    print(\"folder1:\",len(folders_list))\n",
        "    folders_list.sort()\n",
        "    count = 0;i=0; center=(50,50); scale=1.0;\n",
        "\n",
        "    for folder in tqdm(folders_list):\n",
        "         path1 = os.path.join(path, folder)\n",
        "         #print(folder,'-',i,':',len(os.listdir(path1)))\n",
        "         try:\n",
        "            for image_name in os.listdir(path1):\n",
        "              sample_images=[]  ; t=0;\n",
        "              for image_name1 in sorted(os.listdir(path1+\"/\"+image_name)):\n",
        "                  path2=os.path.join(path1+\"/\"+image_name+\"/\", image_name1)\n",
        "                  #print(str(t)+\":\"+ path2+\"\\n\", end = '')\n",
        "                  image = cv2.imread(path2,0)/255 ; t=t+1\n",
        "                  sample_images += [image]\n",
        "                  if(folder=='HGG'):\n",
        "                    l=0\n",
        "                  else:\n",
        "                    l=1\n",
        "              print(t)\n",
        "              if(i<180 or( i>259 and i<300)):\n",
        "                label1.append(l)\n",
        "                sample_train.append(sample_images)\n",
        "              if((i>180  and i<220) or( i>300 and i<320)):\n",
        "                label2.append(l)\n",
        "                sample_val.append(sample_images)\n",
        "              if((i>220  and i<259) or i>320):\n",
        "                label3.append(l)\n",
        "                sample_test.append(sample_images)\n",
        "              i+=1\n",
        "              #print(\"\\n\")\n",
        "         except NotADirectoryError:\n",
        "              print(f\"Cannot load from {path1}\")\n",
        "\n",
        "\n",
        "    print(\"count:\",count)\n",
        "    return sample_train,sample_val,sample_test, label1,label2,label3\n",
        "\n"
      ]
    },
    {
      "cell_type": "code",
      "execution_count": null,
      "metadata": {
        "colab": {
          "base_uri": "https://localhost:8080/"
        },
        "id": "tZgdv_AP6V_P",
        "outputId": "8f044f55-3ead-448b-bc6e-522eab428f2b"
      },
      "outputs": [
        {
          "output_type": "stream",
          "name": "stdout",
          "text": [
            "folder1: 3\n"
          ]
        },
        {
          "output_type": "stream",
          "name": "stderr",
          "text": [
            "\r  0%|          | 0/3 [00:00<?, ?it/s]"
          ]
        },
        {
          "output_type": "stream",
          "name": "stdout",
          "text": [
            "15\n",
            "15\n",
            "15\n",
            "15\n",
            "15\n",
            "15\n",
            "15\n",
            "15\n",
            "15\n",
            "15\n",
            "15\n",
            "15\n",
            "15\n",
            "15\n",
            "15\n",
            "15\n",
            "15\n",
            "15\n",
            "15\n",
            "15\n",
            "15\n",
            "15\n",
            "15\n",
            "15\n",
            "15\n",
            "15\n",
            "15\n",
            "15\n",
            "15\n",
            "15\n",
            "15\n",
            "15\n",
            "15\n",
            "15\n",
            "15\n",
            "15\n",
            "15\n",
            "15\n",
            "15\n",
            "15\n",
            "15\n",
            "15\n",
            "15\n",
            "15\n",
            "15\n",
            "15\n",
            "15\n",
            "15\n",
            "15\n",
            "15\n",
            "15\n",
            "15\n",
            "15\n",
            "15\n",
            "15\n",
            "15\n",
            "15\n",
            "15\n",
            "15\n",
            "15\n",
            "15\n",
            "15\n",
            "15\n",
            "15\n",
            "15\n",
            "15\n",
            "15\n",
            "15\n",
            "15\n",
            "15\n",
            "15\n",
            "15\n",
            "15\n",
            "15\n",
            "15\n",
            "15\n",
            "15\n",
            "15\n",
            "15\n",
            "15\n",
            "15\n",
            "15\n",
            "15\n",
            "15\n",
            "15\n",
            "15\n",
            "15\n",
            "15\n",
            "15\n",
            "15\n",
            "15\n",
            "15\n",
            "15\n",
            "15\n",
            "15\n",
            "15\n",
            "15\n",
            "15\n",
            "15\n",
            "15\n",
            "15\n",
            "15\n",
            "15\n",
            "15\n",
            "15\n",
            "15\n",
            "15\n",
            "15\n",
            "15\n",
            "15\n",
            "15\n",
            "15\n",
            "15\n",
            "15\n",
            "15\n",
            "15\n",
            "15\n",
            "15\n",
            "15\n",
            "15\n",
            "15\n",
            "15\n",
            "15\n",
            "15\n",
            "15\n",
            "15\n",
            "15\n",
            "15\n",
            "15\n",
            "15\n",
            "15\n",
            "15\n",
            "15\n",
            "15\n",
            "15\n",
            "15\n",
            "15\n",
            "15\n",
            "15\n",
            "15\n",
            "15\n",
            "15\n",
            "15\n",
            "15\n",
            "15\n",
            "15\n",
            "15\n",
            "15\n",
            "15\n",
            "15\n",
            "15\n",
            "15\n",
            "15\n",
            "15\n",
            "15\n",
            "15\n",
            "15\n",
            "15\n",
            "15\n",
            "15\n",
            "15\n",
            "15\n",
            "15\n",
            "15\n",
            "15\n",
            "15\n",
            "15\n",
            "15\n",
            "15\n",
            "15\n",
            "15\n",
            "15\n",
            "15\n",
            "15\n",
            "15\n",
            "15\n",
            "15\n",
            "15\n",
            "15\n",
            "15\n",
            "15\n",
            "15\n",
            "15\n",
            "15\n",
            "15\n",
            "15\n",
            "15\n",
            "15\n",
            "15\n",
            "15\n",
            "15\n",
            "15\n",
            "15\n",
            "15\n",
            "15\n",
            "15\n",
            "15\n",
            "15\n",
            "15\n",
            "15\n",
            "15\n",
            "15\n",
            "15\n",
            "15\n",
            "15\n",
            "15\n",
            "15\n",
            "15\n",
            "15\n",
            "15\n",
            "15\n",
            "15\n",
            "15\n",
            "15\n",
            "15\n",
            "15\n",
            "15\n",
            "15\n",
            "15\n",
            "15\n",
            "15\n",
            "15\n",
            "15\n",
            "15\n",
            "15\n",
            "15\n",
            "15\n",
            "15\n",
            "15\n",
            "15\n",
            "15\n",
            "15\n",
            "15\n",
            "15\n",
            "15\n",
            "15\n",
            "15\n",
            "15\n",
            "15\n",
            "15\n",
            "15\n",
            "15\n",
            "15\n",
            "15\n",
            "15\n",
            "15\n",
            "15\n",
            "15\n",
            "15\n",
            "15\n",
            "15\n",
            "15\n",
            "15\n",
            "15\n",
            "15\n",
            "15\n",
            "15\n",
            "15\n"
          ]
        },
        {
          "output_type": "stream",
          "name": "stderr",
          "text": [
            "\r 33%|███▎      | 1/3 [14:37<29:15, 877.64s/it]"
          ]
        },
        {
          "output_type": "stream",
          "name": "stdout",
          "text": [
            "15\n",
            "15\n",
            "15\n",
            "15\n",
            "15\n",
            "15\n",
            "15\n",
            "15\n",
            "15\n",
            "15\n",
            "15\n",
            "15\n",
            "15\n",
            "15\n",
            "15\n",
            "15\n",
            "15\n",
            "15\n",
            "15\n",
            "15\n",
            "15\n",
            "15\n",
            "15\n",
            "15\n",
            "15\n",
            "15\n",
            "15\n",
            "15\n",
            "15\n",
            "15\n",
            "15\n",
            "15\n",
            "15\n",
            "15\n",
            "15\n",
            "15\n",
            "15\n",
            "15\n",
            "15\n",
            "15\n",
            "15\n",
            "15\n",
            "15\n",
            "15\n",
            "15\n",
            "15\n",
            "15\n",
            "15\n",
            "15\n",
            "15\n",
            "15\n",
            "15\n",
            "15\n",
            "15\n",
            "15\n",
            "15\n",
            "15\n",
            "15\n",
            "15\n",
            "15\n",
            "15\n",
            "15\n",
            "15\n",
            "15\n",
            "15\n",
            "15\n",
            "15\n",
            "15\n",
            "15\n",
            "15\n",
            "15\n",
            "15\n",
            "15\n",
            "15\n",
            "15\n",
            "15\n"
          ]
        },
        {
          "output_type": "stream",
          "name": "stderr",
          "text": [
            "100%|██████████| 3/3 [19:01<00:00, 380.35s/it]"
          ]
        },
        {
          "output_type": "stream",
          "name": "stdout",
          "text": [
            "15\n",
            "count: 0\n"
          ]
        },
        {
          "output_type": "stream",
          "name": "stderr",
          "text": [
            "\n"
          ]
        },
        {
          "output_type": "stream",
          "name": "stdout",
          "text": [
            "(220, 15, 231, 231)\n",
            "(220,)\n",
            "(58, 15, 231, 231)\n",
            "(58,)\n",
            "(52, 15, 231, 231)\n",
            "(52,)\n"
          ]
        }
      ],
      "source": [
        "path=\"DataSet\"\n",
        "sample_train,sample_val,sample_test, label1,label2,label3 = loader(path)\n",
        "\n",
        "print(np.array(sample_train).shape)\n",
        "print(np.array(label1).shape)\n",
        "print(np.array(sample_val).shape)\n",
        "print(np.array(label2).shape)\n",
        "print(np.array(sample_test).shape)\n",
        "print(np.array(label3).shape)\n",
        "\n",
        "\n"
      ]
    },
    {
      "cell_type": "code",
      "execution_count": null,
      "metadata": {
        "colab": {
          "base_uri": "https://localhost:8080/"
        },
        "id": "83i3DbTrNred",
        "outputId": "61ea1381-12e4-467f-9764-4fb796d9057e"
      },
      "outputs": [
        {
          "output_type": "stream",
          "name": "stdout",
          "text": [
            "(335, 15, 231, 231)\n"
          ]
        }
      ],
      "source": [
        "x=[] #np.zeros((345,15,231,231,3))\n",
        "\n",
        "for i in range (335):\n",
        "  x.append(list(sample_train[1]))\n",
        "\n",
        "print(np.array(x).shape)"
      ]
    },
    {
      "cell_type": "code",
      "execution_count": null,
      "metadata": {
        "colab": {
          "base_uri": "https://localhost:8080/"
        },
        "id": "cnV_R3KK-dSA",
        "outputId": "84492bd1-d020-4966-9894-04c375dc6c98"
      },
      "outputs": [
        {
          "output_type": "execute_result",
          "data": {
            "text/plain": [
              "(15, 231, 231)"
            ]
          },
          "metadata": {},
          "execution_count": 12
        }
      ],
      "source": [
        "np.array(sample_test[1]).shape"
      ]
    },
    {
      "cell_type": "markdown",
      "metadata": {
        "id": "0wWExHuRZVtw"
      },
      "source": [
        "# Episode Generation"
      ]
    },
    {
      "cell_type": "code",
      "execution_count": null,
      "metadata": {
        "id": "nQEcvr7gpccj"
      },
      "outputs": [],
      "source": [
        "import random\n",
        "from numpy import array, where\n",
        "from random import choice\n",
        "\n",
        "train_way = 2\n",
        "val_way = 2\n",
        "query =1\n",
        "shot = 5\n",
        "\n",
        "class Data_GeneratorFace(tf.keras.utils.Sequence):\n",
        "    'Generates data for Keras'\n",
        "    def __init__(self, datatype='train', dim=(231,231), n_channels=1, way=2,vway=2, shot=1, query=1, num_batch=10):\n",
        "        'Initialization'\n",
        "        self.data=sample_train\n",
        "        self.y=label1\n",
        "        if(datatype=='val'):\n",
        "           self.data=sample_val\n",
        "           self.y=label2\n",
        "        if(datatype=='test'):\n",
        "           self.data=sample_test\n",
        "           self.y=label3\n",
        "        self.dim = dim\n",
        "        self.n_channels = n_channels\n",
        "\n",
        "        self.num_batch = num_batch\n",
        "        self.num_per_class = 15 #len(self.data)\n",
        "        self.on_epoch_end()\n",
        "        self.way = way\n",
        "        self.vway = vway\n",
        "        self.shot = shot\n",
        "        self.query = query\n",
        "\n",
        "    def __len__(self):\n",
        "        'Denotes the number of batches per epoch'\n",
        "        return self.num_batch\n",
        "    def __getitem__(self,index):\n",
        "        'Generate one batch of data'\n",
        "        print(self.dim)\n",
        "        X_sample, X_query, label = self.__data_generation()\n",
        "        return [X_sample, X_query], label\n",
        "\n",
        "    def on_epoch_end(self):\n",
        "        'Updates indexes after each epoch'\n",
        "        pass\n",
        "\n",
        "    def __data_generation(self):\n",
        "        n_classes=np.unique(self.y)\n",
        "        X_sample = []; #np.empty((way, shot, *dim))\n",
        "        X_query = [] #np.empty((way, query, *dim))\n",
        "        label = np.zeros((self.vway*self.query,self.way))\n",
        "        LL=np.reshape(self.y,(-1,1))\n",
        "        ind1= choice(array(where(LL == 0)).T)[0]\n",
        "        ind2= choice(array(where(LL == 1)).T)[0]\n",
        "        print(ind1, ind2)\n",
        "        X_temp = [];\n",
        "        sample_idx = random.sample(list(np.arange(1,self.num_per_class-1)), self.shot)\n",
        "        print(sample_idx)\n",
        "        for s in range(self.shot):\n",
        "              img= self.data[ind1][sample_idx[s]]\n",
        "              X_temp+= [img]\n",
        "        X_sample.append(X_temp)\n",
        "\n",
        "        X_temp = [];\n",
        "        for s in range(self.shot):\n",
        "              img= self.data[ind2][sample_idx[s]]\n",
        "              X_temp+= [img]\n",
        "        X_sample.append(X_temp)\n",
        "\n",
        "        sample_idx2 = random.sample(list(np.arange(self.num_per_class)), 1)\n",
        "        img=self.data[ind1][sample_idx2]\n",
        "        X_query.append(img)\n",
        "        img=self.data[ind2][sample_idx2]\n",
        "        X_query.append(img)\n",
        "\n",
        "        label[0,0]=1; label[1,1]=1\n",
        "\n",
        "        return np.array(X_sample), np.array(X_query), np.array(label)\n",
        "\n",
        "\n",
        "train_loader = Data_GeneratorFace(way=train_way,vway=val_way,datatype='train',query=query, shot=shot, num_batch=1)\n",
        "#val_loader = Data_GeneratorFace(way=train_way,vway=val_way, datatype='val',query=query, shot=shot, num_batch=10)\n"
      ]
    },
    {
      "cell_type": "code",
      "execution_count": null,
      "metadata": {
        "colab": {
          "base_uri": "https://localhost:8080/"
        },
        "id": "1PKMBlvMwiJV",
        "outputId": "a71dea70-4bdd-48c4-c4d1-c9f600279380"
      },
      "outputs": [
        {
          "output_type": "stream",
          "name": "stdout",
          "text": [
            "\n",
            "(2, 5, 231, 231, 1) (2, 1, 231, 231, 1) (2, 2)\n",
            "\n",
            "[[1. 0.]\n",
            " [0. 1.]]\n"
          ]
        }
      ],
      "source": [
        "(x,y),z=train_loader[0]\n",
        "print()\n",
        "print(x.shape,y.shape,z.shape)\n",
        "print()\n",
        "print(z)"
      ]
    },
    {
      "cell_type": "code",
      "execution_count": null,
      "metadata": {
        "colab": {
          "base_uri": "https://localhost:8080/"
        },
        "id": "Hj6MSHSk5kG9",
        "outputId": "0697c464-9c25-4bfe-c12e-882640aaf61e"
      },
      "outputs": [
        {
          "output_type": "stream",
          "name": "stdout",
          "text": [
            "(231, 231)\n"
          ]
        }
      ],
      "source": [
        "sample_idx=random.sample(list(np.arange(15)),5)\n",
        "LL=np.reshape(label1,(-1,1))\n",
        "\n",
        "ind1= choice(array(where(LL == 0)).T)[0]\n",
        "\n",
        "print(sample_train[ind1][sample_idx[4]].shape)"
      ]
    },
    {
      "cell_type": "code",
      "execution_count": null,
      "metadata": {
        "colab": {
          "base_uri": "https://localhost:8080/"
        },
        "id": "r3OpJL_bCrtD",
        "outputId": "ae2528bd-1297-441a-b16c-0a631cd35ba1"
      },
      "outputs": [
        {
          "output_type": "stream",
          "name": "stdout",
          "text": [
            "(2, 5, 231, 231, 1) (2, 1, 231, 231, 1) (2, 2)\n",
            "\n",
            "[[1. 0.]\n",
            " [0. 1.]]\n"
          ]
        }
      ],
      "source": [
        "import random\n",
        "from numpy import array, where\n",
        "from random import choice\n",
        "\n",
        "train_way = 2\n",
        "val_way = 2\n",
        "query =1\n",
        "shot = 5\n",
        "\n",
        "class Data_GeneratorRavi(tf.keras.utils.Sequence):\n",
        "    'Generates data for Keras'\n",
        "    #def __init__(self, datatype='train', dim=(32,32), n_channels=1, way=20, shot=1, query=1, num_batch=10):\n",
        "    def __init__(self, datatype='train', dim=(231,231),num_per_class=1, n_channels=1, way=20,vway=20, shot=1, query=1, num_batch=10):\n",
        "        'Initialization'\n",
        "        #if(datatype=='train'):\n",
        "        self.data=sample_train\n",
        "        self.y=label1\n",
        "        if(datatype=='val'):\n",
        "           self.data=sample_val\n",
        "           self.y=label2\n",
        "        if(datatype=='test'):\n",
        "           self.data=sample_test\n",
        "           self.y=label3\n",
        "        self.dim = dim\n",
        "        self.num_batch = num_batch\n",
        "        self.num_per_class = 15 # len(self.data)\n",
        "        self.on_epoch_end()\n",
        "        self.way = way\n",
        "        self.vway = vway\n",
        "        self.shot = shot\n",
        "        self.query = 1\n",
        "\n",
        "    def __len__(self):\n",
        "        'Denotes the number of batches per epoch'\n",
        "        return self.num_batch\n",
        "    def __getitem__(self,index):\n",
        "        'Generate one batch of data'\n",
        "\n",
        "        X_sample, X_query, label = self.__data_generation()\n",
        "        return [X_sample, X_query], label\n",
        "\n",
        "    def on_epoch_end(self):\n",
        "        'Updates indexes after each epoch'\n",
        "        pass\n",
        "\n",
        "    def __data_generation(self):\n",
        "        n_classes=np.unique(self.y)\n",
        "        X_sample = []; #np.empty((way, shot, *dim))\n",
        "        X_query = [] #np.empty((way, query, *dim))\n",
        "        label = np.zeros((2,2))\n",
        "        LL=np.reshape(self.y,(-1,1))\n",
        "        ind1= choice(array(where(LL == 0)).T)[0]\n",
        "        ind2= choice(array(where(LL == 1)).T)[0]\n",
        "\n",
        "        X_temp = [];\n",
        "        sample_idx = random.sample(list(np.arange(self.num_per_class)), self.shot)\n",
        "\n",
        "        for s in range(self.shot):\n",
        "              img= np.reshape(self.data[ind1][sample_idx[s]],(231,231,1))\n",
        "              X_temp+= [img]\n",
        "        X_sample.append(X_temp)\n",
        "\n",
        "        X_temp = [];\n",
        "        for s in range(self.shot):\n",
        "              img= np.reshape(self.data[ind2][sample_idx[s]],(231,231,1))\n",
        "              X_temp+= [img]\n",
        "        X_sample.append(X_temp)\n",
        "        #.......................................................................................\n",
        "        sample_idx2 = random.sample(list(np.arange(self.num_per_class)), self.query)  #[0]\n",
        "        X_tempp = [];\n",
        "        for s in range(self.query):\n",
        "            img=np.reshape(self.data[ind1][sample_idx2[s]] ,(231,231,1))\n",
        "            X_tempp+= [img]\n",
        "        X_query.append(X_tempp)\n",
        "\n",
        "        X_tempp = [];\n",
        "        for s in range(self.query):\n",
        "            img=np.reshape(self.data[ind2][sample_idx2[s]] ,(231,231,1))\n",
        "            X_tempp+= [img]\n",
        "        X_query.append(X_tempp)\n",
        "\n",
        "        label[0,0]=1; label[1,1]=1\n",
        "\n",
        "        return np.array(X_sample), np.array(X_query), np.array(label)\n",
        "\n",
        "train_loader = Data_GeneratorRavi(way=train_way,vway=val_way,datatype='train',query=query, shot=shot, num_batch=10)\n",
        "\n",
        "(x,y),z=train_loader[0]\n",
        "print(x.shape,y.shape,z.shape)\n",
        "print()\n",
        "print(z)"
      ]
    },
    {
      "cell_type": "markdown",
      "metadata": {
        "id": "SHavO1DAHK3B"
      },
      "source": [
        "# 3. Model Initialization\n",
        "\n",
        "---\n",
        "\n"
      ]
    },
    {
      "cell_type": "code",
      "execution_count": null,
      "metadata": {
        "id": "04aYMiaFPX5Q"
      },
      "outputs": [],
      "source": [
        "\n",
        "lr = 0.001\n",
        "eps = 1e-12\n",
        "\n",
        "def W_init(shape,name=None):\n",
        "    \"\"\"Initialize weights as in paper\"\"\"\n",
        "    values = rng.normal(loc=0,scale=1e-2,size=shape)\n",
        "    return K.variable(values,name=name)\n",
        "\n",
        "def b_init(shape,name=None):\n",
        "    \"\"\"Initialize bias as in paper\"\"\"\n",
        "    values=rng.normal(loc=0.5,scale=1e-2,size=shape)\n",
        "    return K.variable(values,name=name)\n",
        "\n",
        "#build convnet to use in each siamese 'leg'\n",
        "def conv_net(dim):\n",
        "    convnet = Sequential()\n",
        "    for i in range(4):\n",
        "        convnet.add(Conv2D(64,(3,3),padding='same',input_shape=dim))\n",
        "        convnet.add(BatchNormalization())\n",
        "        convnet.add(Activation('relu'))\n",
        "        convnet.add(MaxPooling2D())\n",
        "    convnet.add(Flatten())\n",
        "    return convnet\n",
        "\n",
        "\n",
        "def proto_dist(x):  # Negative softmax distance measure\n",
        "    feature, pred = x\n",
        "    pred_dist = tf.reduce_sum(pred ** 2, axis=1, keepdims=True)\n",
        "    feature_dist = tf.reduce_sum(feature ** 2, axis=1, keepdims=True)\n",
        "    #print(pred_dist.shape);  print(feature_dist.shape)\n",
        "    dot = tf.matmul(pred, tf.transpose(feature))\n",
        "    #print(dot.shape)\n",
        "    return tf.nn.softmax(-(tf.sqrt(pred_dist + tf.transpose(feature_dist) - 2 * dot)))\n",
        "\n",
        "\n",
        "def reduce_tensor(x):\n",
        "    y=tf.reduce_mean(x, axis=1)\n",
        "    return y\n",
        "\n",
        "\n",
        "def reshape_query(x):  # reshape query output to  dimention 64*query,1\n",
        "    y=tf.reshape(x, [-1, tf.shape(x)[-1]])\n",
        "    return y\n",
        "\n",
        "def normalise(xx):\n",
        "  global noise\n",
        "  std = tf.reshape(tf.math.reduce_std(xx,axis=1),(-1,1))\n",
        "  meanFeature = tf.reshape(tf.reduce_mean(xx,axis=1),(-1,1))\n",
        "  out_feature = (xx- meanFeature)/std\n",
        "  return out_feature\n",
        "\n",
        "\n",
        "# def normalise(xx):\n",
        "\n",
        "#     std = tf.reshape(tf.math.reduce_std(xx,axis=1),(1,-1))\n",
        "#     meanFeature = tf.reshape(tf.reduce_mean(xx,axis=1),(1,-1))\n",
        "#     out_feature = tf.transpose((tf.transpose(xx)- meanFeature)/std)\n",
        "#     return out_feature\n"
      ]
    },
    {
      "cell_type": "code",
      "execution_count": null,
      "metadata": {
        "colab": {
          "base_uri": "https://localhost:8080/"
        },
        "id": "1NJY6tPKDpsm",
        "outputId": "1d501ec9-0f8f-425b-de11-ff35710e7a35"
      },
      "outputs": [
        {
          "output_type": "execute_result",
          "data": {
            "text/plain": [
              "(2, 2)"
            ]
          },
          "metadata": {},
          "execution_count": 22
        }
      ],
      "source": [
        "(x,y),z=train_loader[0]\n",
        "z.shape"
      ]
    },
    {
      "cell_type": "markdown",
      "metadata": {
        "id": "3NfzlR3QbP7I"
      },
      "source": [
        "#ProtoNet Model Traning"
      ]
    },
    {
      "cell_type": "markdown",
      "metadata": {
        "id": "OudAtvYqIoNd"
      },
      "source": [
        "###  ProtoNet 5-5"
      ]
    },
    {
      "cell_type": "code",
      "execution_count": null,
      "metadata": {
        "colab": {
          "base_uri": "https://localhost:8080/"
        },
        "id": "ukv6tlUXBQZz",
        "outputId": "ff26e7f6-9557-4e71-e5f1-de92034909d7"
      },
      "outputs": [
        {
          "output_type": "stream",
          "name": "stdout",
          "text": [
            "Model: \"model_2\"\n",
            "__________________________________________________________________________________________________\n",
            " Layer (type)                   Output Shape         Param #     Connected to                     \n",
            "==================================================================================================\n",
            " input_5 (InputLayer)           [(None, None, 231,   0           []                               \n",
            "                                231, 1)]                                                          \n",
            "                                                                                                  \n",
            " input_6 (InputLayer)           [(None, None, 231,   0           []                               \n",
            "                                231, 1)]                                                          \n",
            "                                                                                                  \n",
            " time_distributed_2 (TimeDistri  (None, None, 12544)  112448     ['input_5[0][0]',                \n",
            " buted)                                                           'input_6[0][0]']                \n",
            "                                                                                                  \n",
            " lambda_6 (Lambda)              (None, 12544)        0           ['time_distributed_2[0][0]']     \n",
            "                                                                                                  \n",
            " lambda_7 (Lambda)              (None, 12544)        0           ['time_distributed_2[1][0]']     \n",
            "                                                                                                  \n",
            " tf.math.reduce_mean_4 (TFOpLam  (None,)             0           ['lambda_6[0][0]']               \n",
            " bda)                                                                                             \n",
            "                                                                                                  \n",
            " tf.math.reduce_mean_5 (TFOpLam  (None,)             0           ['lambda_7[0][0]']               \n",
            " bda)                                                                                             \n",
            "                                                                                                  \n",
            " tf.reshape_9 (TFOpLambda)      (None, 1)            0           ['tf.math.reduce_mean_4[0][0]']  \n",
            "                                                                                                  \n",
            " tf.math.reduce_std_4 (TFOpLamb  (None,)             0           ['lambda_6[0][0]']               \n",
            " da)                                                                                              \n",
            "                                                                                                  \n",
            " tf.reshape_11 (TFOpLambda)     (None, 1)            0           ['tf.math.reduce_mean_5[0][0]']  \n",
            "                                                                                                  \n",
            " tf.math.reduce_std_5 (TFOpLamb  (None,)             0           ['lambda_7[0][0]']               \n",
            " da)                                                                                              \n",
            "                                                                                                  \n",
            " tf.math.subtract_4 (TFOpLambda  (None, 12544)       0           ['lambda_6[0][0]',               \n",
            " )                                                                'tf.reshape_9[0][0]']           \n",
            "                                                                                                  \n",
            " tf.reshape_8 (TFOpLambda)      (None, 1)            0           ['tf.math.reduce_std_4[0][0]']   \n",
            "                                                                                                  \n",
            " tf.math.subtract_5 (TFOpLambda  (None, 12544)       0           ['lambda_7[0][0]',               \n",
            " )                                                                'tf.reshape_11[0][0]']          \n",
            "                                                                                                  \n",
            " tf.reshape_10 (TFOpLambda)     (None, 1)            0           ['tf.math.reduce_std_5[0][0]']   \n",
            "                                                                                                  \n",
            " tf.math.truediv_4 (TFOpLambda)  (None, 12544)       0           ['tf.math.subtract_4[0][0]',     \n",
            "                                                                  'tf.reshape_8[0][0]']           \n",
            "                                                                                                  \n",
            " tf.math.truediv_5 (TFOpLambda)  (None, 12544)       0           ['tf.math.subtract_5[0][0]',     \n",
            "                                                                  'tf.reshape_10[0][0]']          \n",
            "                                                                                                  \n",
            " lambda_8 (Lambda)              (None, None)         0           ['tf.math.truediv_4[0][0]',      \n",
            "                                                                  'tf.math.truediv_5[0][0]']      \n",
            "                                                                                                  \n",
            "==================================================================================================\n",
            "Total params: 112,448\n",
            "Trainable params: 111,936\n",
            "Non-trainable params: 512\n",
            "__________________________________________________________________________________________________\n",
            "None\n",
            "Epoch 1/200\n"
          ]
        },
        {
          "output_type": "stream",
          "name": "stderr",
          "text": [
            "<ipython-input-29-0c463fc29485>:44: UserWarning: `Model.fit_generator` is deprecated and will be removed in a future version. Please use `Model.fit`, which supports generators.\n",
            "  history3=combine1.fit_generator(train_loader,epochs=200,validation_data=val_loader, use_multiprocessing=True, workers=4, shuffle=True, callbacks=[ lr_sched, tensorboard])\n"
          ]
        },
        {
          "output_type": "stream",
          "name": "stdout",
          "text": [
            "100/100 [==============================] - 19s 151ms/step - loss: 0.7023 - categorical_accuracy: 0.7950 - val_loss: 1.8942 - val_categorical_accuracy: 0.7650 - lr: 8.3333e-04\n",
            "Epoch 2/200\n",
            "100/100 [==============================] - 14s 141ms/step - loss: 0.4687 - categorical_accuracy: 0.8250 - val_loss: 0.9262 - val_categorical_accuracy: 0.7350 - lr: 8.3333e-04\n",
            "Epoch 3/200\n",
            "100/100 [==============================] - 15s 143ms/step - loss: 0.4276 - categorical_accuracy: 0.8200 - val_loss: 0.7393 - val_categorical_accuracy: 0.7400 - lr: 8.3333e-04\n",
            "Epoch 4/200\n",
            "100/100 [==============================] - 15s 146ms/step - loss: 0.4678 - categorical_accuracy: 0.7850 - val_loss: 0.5906 - val_categorical_accuracy: 0.8100 - lr: 8.3333e-04\n",
            "Epoch 5/200\n",
            "100/100 [==============================] - 15s 150ms/step - loss: 0.4023 - categorical_accuracy: 0.8050 - val_loss: 1.0587 - val_categorical_accuracy: 0.7500 - lr: 8.3333e-04\n",
            "Epoch 6/200\n",
            "100/100 [==============================] - 15s 143ms/step - loss: 0.3170 - categorical_accuracy: 0.8500 - val_loss: 0.5671 - val_categorical_accuracy: 0.8000 - lr: 6.9444e-04\n",
            "Epoch 7/200\n",
            "100/100 [==============================] - 14s 140ms/step - loss: 0.3313 - categorical_accuracy: 0.8400 - val_loss: 0.7242 - val_categorical_accuracy: 0.8200 - lr: 6.9444e-04\n",
            "Epoch 8/200\n",
            "100/100 [==============================] - 15s 146ms/step - loss: 0.3101 - categorical_accuracy: 0.8350 - val_loss: 0.7720 - val_categorical_accuracy: 0.8050 - lr: 6.9444e-04\n",
            "Epoch 9/200\n",
            "100/100 [==============================] - 15s 143ms/step - loss: 0.2967 - categorical_accuracy: 0.8550 - val_loss: 1.2563 - val_categorical_accuracy: 0.7850 - lr: 6.9444e-04\n",
            "Epoch 10/200\n",
            "100/100 [==============================] - 15s 148ms/step - loss: 0.4136 - categorical_accuracy: 0.8100 - val_loss: 0.6777 - val_categorical_accuracy: 0.8450 - lr: 6.9444e-04\n",
            "Epoch 11/200\n",
            "100/100 [==============================] - 15s 141ms/step - loss: 0.3671 - categorical_accuracy: 0.8250 - val_loss: 0.7440 - val_categorical_accuracy: 0.7850 - lr: 5.7870e-04\n",
            "Epoch 12/200\n",
            "100/100 [==============================] - 15s 144ms/step - loss: 0.3343 - categorical_accuracy: 0.8400 - val_loss: 1.3851 - val_categorical_accuracy: 0.8100 - lr: 5.7870e-04\n",
            "Epoch 13/200\n",
            "100/100 [==============================] - 15s 143ms/step - loss: 0.3102 - categorical_accuracy: 0.8750 - val_loss: 0.8726 - val_categorical_accuracy: 0.7750 - lr: 5.7870e-04\n",
            "Epoch 14/200\n",
            "100/100 [==============================] - 15s 147ms/step - loss: 0.4321 - categorical_accuracy: 0.8250 - val_loss: 0.5638 - val_categorical_accuracy: 0.7850 - lr: 5.7870e-04\n",
            "Epoch 15/200\n",
            "100/100 [==============================] - 10s 98ms/step - loss: 0.3400 - categorical_accuracy: 0.8450 - val_loss: 0.9069 - val_categorical_accuracy: 0.8000 - lr: 5.7870e-04\n",
            "Epoch 16/200\n",
            "100/100 [==============================] - 15s 144ms/step - loss: 0.3890 - categorical_accuracy: 0.8350 - val_loss: 0.5314 - val_categorical_accuracy: 0.7950 - lr: 4.8225e-04\n",
            "Epoch 17/200\n",
            "100/100 [==============================] - 15s 145ms/step - loss: 0.3417 - categorical_accuracy: 0.8450 - val_loss: 1.1861 - val_categorical_accuracy: 0.7900 - lr: 4.8225e-04\n",
            "Epoch 18/200\n",
            "100/100 [==============================] - 15s 146ms/step - loss: 0.4313 - categorical_accuracy: 0.7900 - val_loss: 0.6977 - val_categorical_accuracy: 0.7600 - lr: 4.8225e-04\n",
            "Epoch 19/200\n",
            "100/100 [==============================] - 14s 140ms/step - loss: 0.3326 - categorical_accuracy: 0.8300 - val_loss: 0.8054 - val_categorical_accuracy: 0.7750 - lr: 4.8225e-04\n",
            "Epoch 20/200\n",
            "100/100 [==============================] - 12s 118ms/step - loss: 0.3082 - categorical_accuracy: 0.8350 - val_loss: 0.9800 - val_categorical_accuracy: 0.8300 - lr: 4.8225e-04\n",
            "Epoch 21/200\n",
            "100/100 [==============================] - 15s 142ms/step - loss: 0.3553 - categorical_accuracy: 0.8450 - val_loss: 0.6627 - val_categorical_accuracy: 0.8050 - lr: 4.0188e-04\n",
            "Epoch 22/200\n",
            "100/100 [==============================] - 15s 143ms/step - loss: 0.2632 - categorical_accuracy: 0.9000 - val_loss: 0.5367 - val_categorical_accuracy: 0.8100 - lr: 4.0188e-04\n",
            "Epoch 23/200\n",
            "100/100 [==============================] - 15s 148ms/step - loss: 0.4126 - categorical_accuracy: 0.8200 - val_loss: 0.5204 - val_categorical_accuracy: 0.8350 - lr: 4.0188e-04\n",
            "Epoch 24/200\n",
            "100/100 [==============================] - 15s 147ms/step - loss: 0.2950 - categorical_accuracy: 0.8400 - val_loss: 0.4944 - val_categorical_accuracy: 0.8650 - lr: 4.0188e-04\n",
            "Epoch 25/200\n",
            "100/100 [==============================] - 14s 141ms/step - loss: 0.2195 - categorical_accuracy: 0.9100 - val_loss: 1.4828 - val_categorical_accuracy: 0.7750 - lr: 4.0188e-04\n",
            "Epoch 26/200\n",
            "100/100 [==============================] - 14s 140ms/step - loss: 0.3362 - categorical_accuracy: 0.8500 - val_loss: 0.6712 - val_categorical_accuracy: 0.8700 - lr: 3.3490e-04\n",
            "Epoch 27/200\n",
            "100/100 [==============================] - 15s 142ms/step - loss: 0.3425 - categorical_accuracy: 0.8350 - val_loss: 0.5846 - val_categorical_accuracy: 0.7800 - lr: 3.3490e-04\n",
            "Epoch 28/200\n",
            "100/100 [==============================] - 15s 149ms/step - loss: 0.2448 - categorical_accuracy: 0.9200 - val_loss: 1.0215 - val_categorical_accuracy: 0.7900 - lr: 3.3490e-04\n",
            "Epoch 29/200\n",
            "100/100 [==============================] - 15s 145ms/step - loss: 0.2894 - categorical_accuracy: 0.8450 - val_loss: 1.0221 - val_categorical_accuracy: 0.7850 - lr: 3.3490e-04\n",
            "Epoch 30/200\n",
            "100/100 [==============================] - 13s 123ms/step - loss: 0.2840 - categorical_accuracy: 0.8700 - val_loss: 0.7336 - val_categorical_accuracy: 0.7950 - lr: 3.3490e-04\n",
            "Epoch 31/200\n",
            "100/100 [==============================] - 15s 145ms/step - loss: 0.2860 - categorical_accuracy: 0.8750 - val_loss: 1.0392 - val_categorical_accuracy: 0.8250 - lr: 2.7908e-04\n",
            "Epoch 32/200\n",
            "100/100 [==============================] - 15s 142ms/step - loss: 0.3065 - categorical_accuracy: 0.8750 - val_loss: 0.6206 - val_categorical_accuracy: 0.8100 - lr: 2.7908e-04\n",
            "Epoch 33/200\n",
            "100/100 [==============================] - 15s 141ms/step - loss: 0.3050 - categorical_accuracy: 0.8350 - val_loss: 0.4387 - val_categorical_accuracy: 0.8500 - lr: 2.7908e-04\n",
            "Epoch 34/200\n",
            "100/100 [==============================] - 15s 144ms/step - loss: 0.2843 - categorical_accuracy: 0.8850 - val_loss: 0.4879 - val_categorical_accuracy: 0.8350 - lr: 2.7908e-04\n",
            "Epoch 35/200\n",
            "100/100 [==============================] - 11s 102ms/step - loss: 0.3545 - categorical_accuracy: 0.8400 - val_loss: 0.8105 - val_categorical_accuracy: 0.7450 - lr: 2.7908e-04\n",
            "Epoch 36/200\n",
            "100/100 [==============================] - 15s 144ms/step - loss: 0.3720 - categorical_accuracy: 0.8200 - val_loss: 0.6532 - val_categorical_accuracy: 0.7850 - lr: 2.3257e-04\n",
            "Epoch 37/200\n",
            "100/100 [==============================] - 10s 100ms/step - loss: 0.3164 - categorical_accuracy: 0.8700 - val_loss: 0.7093 - val_categorical_accuracy: 0.8100 - lr: 2.3257e-04\n",
            "Epoch 38/200\n",
            "100/100 [==============================] - 15s 147ms/step - loss: 0.3077 - categorical_accuracy: 0.8500 - val_loss: 0.5329 - val_categorical_accuracy: 0.8000 - lr: 2.3257e-04\n",
            "Epoch 39/200\n",
            "100/100 [==============================] - 15s 144ms/step - loss: 0.3005 - categorical_accuracy: 0.8350 - val_loss: 0.6030 - val_categorical_accuracy: 0.8200 - lr: 2.3257e-04\n",
            "Epoch 40/200\n",
            "100/100 [==============================] - 14s 141ms/step - loss: 0.3997 - categorical_accuracy: 0.8250 - val_loss: 0.7371 - val_categorical_accuracy: 0.7850 - lr: 2.3257e-04\n",
            "Epoch 41/200\n",
            "100/100 [==============================] - 14s 141ms/step - loss: 0.2455 - categorical_accuracy: 0.8950 - val_loss: 0.5415 - val_categorical_accuracy: 0.8150 - lr: 1.9381e-04\n",
            "Epoch 42/200\n",
            "100/100 [==============================] - 15s 144ms/step - loss: 0.3473 - categorical_accuracy: 0.8500 - val_loss: 0.6769 - val_categorical_accuracy: 0.8300 - lr: 1.9381e-04\n",
            "Epoch 43/200\n",
            "100/100 [==============================] - 11s 102ms/step - loss: 0.2839 - categorical_accuracy: 0.8550 - val_loss: 0.4470 - val_categorical_accuracy: 0.8400 - lr: 1.9381e-04\n",
            "Epoch 44/200\n",
            "100/100 [==============================] - 14s 140ms/step - loss: 0.2766 - categorical_accuracy: 0.8600 - val_loss: 0.4938 - val_categorical_accuracy: 0.8000 - lr: 1.9381e-04\n",
            "Epoch 45/200\n",
            "100/100 [==============================] - 15s 148ms/step - loss: 0.2742 - categorical_accuracy: 0.8650 - val_loss: 0.6289 - val_categorical_accuracy: 0.8600 - lr: 1.9381e-04\n",
            "Epoch 46/200\n",
            "100/100 [==============================] - 15s 143ms/step - loss: 0.2213 - categorical_accuracy: 0.8850 - val_loss: 0.5989 - val_categorical_accuracy: 0.8200 - lr: 1.6151e-04\n",
            "Epoch 47/200\n",
            "100/100 [==============================] - 15s 141ms/step - loss: 0.2597 - categorical_accuracy: 0.8750 - val_loss: 0.4656 - val_categorical_accuracy: 0.8650 - lr: 1.6151e-04\n",
            "Epoch 48/200\n",
            "100/100 [==============================] - 15s 143ms/step - loss: 0.2727 - categorical_accuracy: 0.8650 - val_loss: 0.5345 - val_categorical_accuracy: 0.8500 - lr: 1.6151e-04\n",
            "Epoch 49/200\n",
            "100/100 [==============================] - 15s 143ms/step - loss: 0.2793 - categorical_accuracy: 0.8700 - val_loss: 0.5323 - val_categorical_accuracy: 0.8350 - lr: 1.6151e-04\n",
            "Epoch 50/200\n",
            "100/100 [==============================] - 15s 145ms/step - loss: 0.1420 - categorical_accuracy: 0.9450 - val_loss: 0.8866 - val_categorical_accuracy: 0.8350 - lr: 1.6151e-04\n",
            "Epoch 51/200\n",
            "100/100 [==============================] - 15s 142ms/step - loss: 0.1616 - categorical_accuracy: 0.9300 - val_loss: 0.8446 - val_categorical_accuracy: 0.8100 - lr: 1.3459e-04\n",
            "Epoch 52/200\n",
            "100/100 [==============================] - 15s 147ms/step - loss: 0.2616 - categorical_accuracy: 0.9000 - val_loss: 0.5257 - val_categorical_accuracy: 0.8450 - lr: 1.3459e-04\n",
            "Epoch 53/200\n",
            "100/100 [==============================] - 15s 145ms/step - loss: 0.2648 - categorical_accuracy: 0.8850 - val_loss: 0.5267 - val_categorical_accuracy: 0.8150 - lr: 1.3459e-04\n",
            "Epoch 54/200\n",
            "100/100 [==============================] - 15s 146ms/step - loss: 0.2185 - categorical_accuracy: 0.8850 - val_loss: 0.4453 - val_categorical_accuracy: 0.8550 - lr: 1.3459e-04\n",
            "Epoch 55/200\n",
            "100/100 [==============================] - 14s 140ms/step - loss: 0.2729 - categorical_accuracy: 0.8650 - val_loss: 0.4032 - val_categorical_accuracy: 0.8650 - lr: 1.3459e-04\n",
            "Epoch 56/200\n",
            "100/100 [==============================] - 13s 122ms/step - loss: 0.3674 - categorical_accuracy: 0.8650 - val_loss: 0.4298 - val_categorical_accuracy: 0.8150 - lr: 1.1216e-04\n",
            "Epoch 57/200\n",
            "100/100 [==============================] - 15s 142ms/step - loss: 0.1974 - categorical_accuracy: 0.9200 - val_loss: 0.4387 - val_categorical_accuracy: 0.8650 - lr: 1.1216e-04\n",
            "Epoch 58/200\n",
            "100/100 [==============================] - 15s 144ms/step - loss: 0.2140 - categorical_accuracy: 0.8900 - val_loss: 0.6687 - val_categorical_accuracy: 0.8000 - lr: 1.1216e-04\n",
            "Epoch 59/200\n",
            "100/100 [==============================] - 13s 125ms/step - loss: 0.1805 - categorical_accuracy: 0.9300 - val_loss: 0.5836 - val_categorical_accuracy: 0.8150 - lr: 1.1216e-04\n",
            "Epoch 60/200\n",
            "100/100 [==============================] - 15s 145ms/step - loss: 0.3108 - categorical_accuracy: 0.8450 - val_loss: 0.5412 - val_categorical_accuracy: 0.7900 - lr: 1.1216e-04\n",
            "Epoch 61/200\n",
            "100/100 [==============================] - 15s 147ms/step - loss: 0.2539 - categorical_accuracy: 0.8800 - val_loss: 0.5654 - val_categorical_accuracy: 0.8400 - lr: 9.3464e-05\n",
            "Epoch 62/200\n",
            "100/100 [==============================] - 15s 146ms/step - loss: 0.1927 - categorical_accuracy: 0.8950 - val_loss: 0.3456 - val_categorical_accuracy: 0.8650 - lr: 9.3464e-05\n",
            "Epoch 63/200\n",
            "100/100 [==============================] - 15s 145ms/step - loss: 0.1986 - categorical_accuracy: 0.9250 - val_loss: 0.5714 - val_categorical_accuracy: 0.8500 - lr: 9.3464e-05\n",
            "Epoch 64/200\n",
            "100/100 [==============================] - 15s 142ms/step - loss: 0.1823 - categorical_accuracy: 0.9150 - val_loss: 0.5859 - val_categorical_accuracy: 0.7950 - lr: 9.3464e-05\n",
            "Epoch 65/200\n",
            "100/100 [==============================] - 14s 140ms/step - loss: 0.2045 - categorical_accuracy: 0.9000 - val_loss: 0.6466 - val_categorical_accuracy: 0.8500 - lr: 9.3464e-05\n",
            "Epoch 66/200\n",
            "100/100 [==============================] - 15s 142ms/step - loss: 0.1931 - categorical_accuracy: 0.9150 - val_loss: 0.5003 - val_categorical_accuracy: 0.8850 - lr: 7.7887e-05\n",
            "Epoch 67/200\n",
            "100/100 [==============================] - 15s 144ms/step - loss: 0.2635 - categorical_accuracy: 0.8550 - val_loss: 0.7911 - val_categorical_accuracy: 0.8250 - lr: 7.7887e-05\n",
            "Epoch 68/200\n",
            "100/100 [==============================] - 15s 142ms/step - loss: 0.2029 - categorical_accuracy: 0.9050 - val_loss: 0.6311 - val_categorical_accuracy: 0.8300 - lr: 7.7887e-05\n",
            "Epoch 69/200\n",
            "100/100 [==============================] - 15s 143ms/step - loss: 0.3068 - categorical_accuracy: 0.8450 - val_loss: 0.3622 - val_categorical_accuracy: 0.8750 - lr: 7.7887e-05\n",
            "Epoch 70/200\n",
            "100/100 [==============================] - 15s 149ms/step - loss: 0.2876 - categorical_accuracy: 0.8800 - val_loss: 0.5312 - val_categorical_accuracy: 0.8550 - lr: 7.7887e-05\n",
            "Epoch 71/200\n",
            "100/100 [==============================] - 11s 102ms/step - loss: 0.1938 - categorical_accuracy: 0.9100 - val_loss: 0.5227 - val_categorical_accuracy: 0.8650 - lr: 6.4905e-05\n",
            "Epoch 72/200\n",
            "100/100 [==============================] - 15s 146ms/step - loss: 0.1892 - categorical_accuracy: 0.9050 - val_loss: 0.4194 - val_categorical_accuracy: 0.8650 - lr: 6.4905e-05\n",
            "Epoch 73/200\n",
            "100/100 [==============================] - 15s 144ms/step - loss: 0.2770 - categorical_accuracy: 0.8700 - val_loss: 0.5869 - val_categorical_accuracy: 0.8650 - lr: 6.4905e-05\n",
            "Epoch 74/200\n",
            "100/100 [==============================] - 14s 141ms/step - loss: 0.2163 - categorical_accuracy: 0.9150 - val_loss: 0.3673 - val_categorical_accuracy: 0.8600 - lr: 6.4905e-05\n",
            "Epoch 75/200\n",
            "100/100 [==============================] - 10s 101ms/step - loss: 0.2380 - categorical_accuracy: 0.8900 - val_loss: 0.4007 - val_categorical_accuracy: 0.8500 - lr: 6.4905e-05\n",
            "Epoch 76/200\n",
            "100/100 [==============================] - 15s 147ms/step - loss: 0.1831 - categorical_accuracy: 0.9150 - val_loss: 0.5140 - val_categorical_accuracy: 0.8500 - lr: 5.4088e-05\n",
            "Epoch 77/200\n",
            "100/100 [==============================] - 15s 147ms/step - loss: 0.3049 - categorical_accuracy: 0.8650 - val_loss: 0.4174 - val_categorical_accuracy: 0.8650 - lr: 5.4088e-05\n",
            "Epoch 78/200\n",
            "100/100 [==============================] - 15s 147ms/step - loss: 0.2138 - categorical_accuracy: 0.8950 - val_loss: 0.4513 - val_categorical_accuracy: 0.8600 - lr: 5.4088e-05\n",
            "Epoch 79/200\n",
            "100/100 [==============================] - 15s 145ms/step - loss: 0.1854 - categorical_accuracy: 0.9150 - val_loss: 0.3837 - val_categorical_accuracy: 0.8700 - lr: 5.4088e-05\n",
            "Epoch 80/200\n",
            "100/100 [==============================] - 15s 145ms/step - loss: 0.1883 - categorical_accuracy: 0.9200 - val_loss: 0.4711 - val_categorical_accuracy: 0.8500 - lr: 5.4088e-05\n",
            "Epoch 81/200\n",
            "100/100 [==============================] - 15s 144ms/step - loss: 0.1334 - categorical_accuracy: 0.9350 - val_loss: 0.5001 - val_categorical_accuracy: 0.8850 - lr: 4.5073e-05\n",
            "Epoch 82/200\n",
            "100/100 [==============================] - 15s 144ms/step - loss: 0.1848 - categorical_accuracy: 0.9400 - val_loss: 0.5996 - val_categorical_accuracy: 0.8500 - lr: 4.5073e-05\n",
            "Epoch 83/200\n",
            "100/100 [==============================] - 15s 147ms/step - loss: 0.1792 - categorical_accuracy: 0.9150 - val_loss: 0.5669 - val_categorical_accuracy: 0.8450 - lr: 4.5073e-05\n",
            "Epoch 84/200\n",
            "100/100 [==============================] - 15s 145ms/step - loss: 0.2581 - categorical_accuracy: 0.8750 - val_loss: 0.6523 - val_categorical_accuracy: 0.8650 - lr: 4.5073e-05\n",
            "Epoch 85/200\n",
            "100/100 [==============================] - 15s 143ms/step - loss: 0.1588 - categorical_accuracy: 0.9300 - val_loss: 0.6102 - val_categorical_accuracy: 0.8400 - lr: 4.5073e-05\n",
            "Epoch 86/200\n",
            "100/100 [==============================] - 13s 123ms/step - loss: 0.2281 - categorical_accuracy: 0.8700 - val_loss: 0.4336 - val_categorical_accuracy: 0.8750 - lr: 3.7561e-05\n",
            "Epoch 87/200\n",
            "100/100 [==============================] - 15s 147ms/step - loss: 0.2183 - categorical_accuracy: 0.8950 - val_loss: 0.3323 - val_categorical_accuracy: 0.8850 - lr: 3.7561e-05\n",
            "Epoch 88/200\n",
            "100/100 [==============================] - 15s 142ms/step - loss: 0.2261 - categorical_accuracy: 0.9000 - val_loss: 0.5030 - val_categorical_accuracy: 0.8400 - lr: 3.7561e-05\n",
            "Epoch 89/200\n",
            "100/100 [==============================] - 12s 119ms/step - loss: 0.1752 - categorical_accuracy: 0.9250 - val_loss: 0.3163 - val_categorical_accuracy: 0.8900 - lr: 3.7561e-05\n",
            "Epoch 90/200\n",
            "100/100 [==============================] - 15s 144ms/step - loss: 0.2273 - categorical_accuracy: 0.8900 - val_loss: 0.3944 - val_categorical_accuracy: 0.8750 - lr: 3.7561e-05\n",
            "Epoch 91/200\n",
            "100/100 [==============================] - 15s 146ms/step - loss: 0.2523 - categorical_accuracy: 0.8550 - val_loss: 0.3566 - val_categorical_accuracy: 0.8850 - lr: 3.1301e-05\n",
            "Epoch 92/200\n",
            "100/100 [==============================] - 15s 143ms/step - loss: 0.1738 - categorical_accuracy: 0.9150 - val_loss: 0.3610 - val_categorical_accuracy: 0.8950 - lr: 3.1301e-05\n",
            "Epoch 93/200\n",
            "100/100 [==============================] - 14s 140ms/step - loss: 0.1764 - categorical_accuracy: 0.9200 - val_loss: 0.3585 - val_categorical_accuracy: 0.8900 - lr: 3.1301e-05\n",
            "Epoch 94/200\n",
            "100/100 [==============================] - 15s 144ms/step - loss: 0.2079 - categorical_accuracy: 0.8900 - val_loss: 0.3513 - val_categorical_accuracy: 0.9150 - lr: 3.1301e-05\n",
            "Epoch 95/200\n",
            "100/100 [==============================] - 15s 142ms/step - loss: 0.2584 - categorical_accuracy: 0.8650 - val_loss: 0.3825 - val_categorical_accuracy: 0.8800 - lr: 3.1301e-05\n",
            "Epoch 96/200\n",
            "100/100 [==============================] - 15s 144ms/step - loss: 0.1545 - categorical_accuracy: 0.9250 - val_loss: 0.4013 - val_categorical_accuracy: 0.8700 - lr: 2.6084e-05\n",
            "Epoch 97/200\n",
            "100/100 [==============================] - 15s 144ms/step - loss: 0.1966 - categorical_accuracy: 0.9000 - val_loss: 0.6196 - val_categorical_accuracy: 0.8250 - lr: 2.6084e-05\n",
            "Epoch 98/200\n",
            "100/100 [==============================] - 15s 143ms/step - loss: 0.2032 - categorical_accuracy: 0.8950 - val_loss: 0.4623 - val_categorical_accuracy: 0.8500 - lr: 2.6084e-05\n",
            "Epoch 99/200\n",
            "100/100 [==============================] - 14s 140ms/step - loss: 0.1291 - categorical_accuracy: 0.9250 - val_loss: 0.4183 - val_categorical_accuracy: 0.8800 - lr: 2.6084e-05\n",
            "Epoch 100/200\n",
            "100/100 [==============================] - 15s 147ms/step - loss: 0.1569 - categorical_accuracy: 0.9250 - val_loss: 0.4230 - val_categorical_accuracy: 0.8450 - lr: 2.6084e-05\n",
            "Epoch 101/200\n",
            "100/100 [==============================] - 11s 104ms/step - loss: 0.1390 - categorical_accuracy: 0.9550 - val_loss: 0.3410 - val_categorical_accuracy: 0.8850 - lr: 2.1737e-05\n",
            "Epoch 102/200\n",
            "100/100 [==============================] - 15s 143ms/step - loss: 0.1943 - categorical_accuracy: 0.8850 - val_loss: 0.3169 - val_categorical_accuracy: 0.8800 - lr: 2.1737e-05\n",
            "Epoch 103/200\n",
            "100/100 [==============================] - 15s 148ms/step - loss: 0.1760 - categorical_accuracy: 0.9200 - val_loss: 0.7563 - val_categorical_accuracy: 0.8250 - lr: 2.1737e-05\n",
            "Epoch 104/200\n",
            "100/100 [==============================] - 15s 149ms/step - loss: 0.1682 - categorical_accuracy: 0.9050 - val_loss: 0.5771 - val_categorical_accuracy: 0.8550 - lr: 2.1737e-05\n",
            "Epoch 105/200\n",
            "100/100 [==============================] - 14s 140ms/step - loss: 0.1915 - categorical_accuracy: 0.9000 - val_loss: 0.4865 - val_categorical_accuracy: 0.8550 - lr: 2.1737e-05\n",
            "Epoch 106/200\n",
            "100/100 [==============================] - 15s 144ms/step - loss: 0.2356 - categorical_accuracy: 0.8800 - val_loss: 0.3301 - val_categorical_accuracy: 0.9000 - lr: 1.8114e-05\n",
            "Epoch 107/200\n",
            "100/100 [==============================] - 15s 149ms/step - loss: 0.1380 - categorical_accuracy: 0.9400 - val_loss: 0.6001 - val_categorical_accuracy: 0.8500 - lr: 1.8114e-05\n",
            "Epoch 108/200\n",
            "100/100 [==============================] - 15s 148ms/step - loss: 0.1302 - categorical_accuracy: 0.9400 - val_loss: 0.5724 - val_categorical_accuracy: 0.8600 - lr: 1.8114e-05\n",
            "Epoch 109/200\n",
            "100/100 [==============================] - 14s 140ms/step - loss: 0.1562 - categorical_accuracy: 0.9050 - val_loss: 0.6098 - val_categorical_accuracy: 0.8400 - lr: 1.8114e-05\n",
            "Epoch 110/200\n",
            "100/100 [==============================] - 15s 143ms/step - loss: 0.1486 - categorical_accuracy: 0.9350 - val_loss: 0.3745 - val_categorical_accuracy: 0.8900 - lr: 1.8114e-05\n",
            "Epoch 111/200\n",
            "100/100 [==============================] - 15s 146ms/step - loss: 0.1186 - categorical_accuracy: 0.9600 - val_loss: 0.5402 - val_categorical_accuracy: 0.8350 - lr: 1.5095e-05\n",
            "Epoch 112/200\n",
            "100/100 [==============================] - 15s 141ms/step - loss: 0.1743 - categorical_accuracy: 0.9100 - val_loss: 0.4300 - val_categorical_accuracy: 0.8900 - lr: 1.5095e-05\n",
            "Epoch 113/200\n",
            "100/100 [==============================] - 15s 147ms/step - loss: 0.1927 - categorical_accuracy: 0.9050 - val_loss: 0.5397 - val_categorical_accuracy: 0.8550 - lr: 1.5095e-05\n",
            "Epoch 114/200\n",
            "100/100 [==============================] - 15s 145ms/step - loss: 0.1783 - categorical_accuracy: 0.9200 - val_loss: 0.4742 - val_categorical_accuracy: 0.8800 - lr: 1.5095e-05\n",
            "Epoch 115/200\n",
            "100/100 [==============================] - 15s 146ms/step - loss: 0.1673 - categorical_accuracy: 0.9350 - val_loss: 0.4898 - val_categorical_accuracy: 0.8550 - lr: 1.5095e-05\n",
            "Epoch 116/200\n",
            "100/100 [==============================] - 15s 143ms/step - loss: 0.1544 - categorical_accuracy: 0.9500 - val_loss: 0.5339 - val_categorical_accuracy: 0.8650 - lr: 1.2579e-05\n",
            "Epoch 117/200\n",
            "100/100 [==============================] - 15s 148ms/step - loss: 0.1965 - categorical_accuracy: 0.9000 - val_loss: 0.4586 - val_categorical_accuracy: 0.8800 - lr: 1.2579e-05\n",
            "Epoch 118/200\n",
            "100/100 [==============================] - 15s 146ms/step - loss: 0.2302 - categorical_accuracy: 0.8900 - val_loss: 0.5161 - val_categorical_accuracy: 0.8650 - lr: 1.2579e-05\n",
            "Epoch 119/200\n",
            "100/100 [==============================] - 15s 149ms/step - loss: 0.1770 - categorical_accuracy: 0.9250 - val_loss: 0.3535 - val_categorical_accuracy: 0.8750 - lr: 1.2579e-05\n",
            "Epoch 120/200\n",
            "100/100 [==============================] - 15s 146ms/step - loss: 0.1746 - categorical_accuracy: 0.9050 - val_loss: 0.4481 - val_categorical_accuracy: 0.8800 - lr: 1.2579e-05\n",
            "Epoch 121/200\n",
            "100/100 [==============================] - 14s 140ms/step - loss: 0.1295 - categorical_accuracy: 0.9550 - val_loss: 0.5553 - val_categorical_accuracy: 0.8300 - lr: 1.0483e-05\n",
            "Epoch 122/200\n",
            "100/100 [==============================] - 15s 144ms/step - loss: 0.2047 - categorical_accuracy: 0.9100 - val_loss: 0.5367 - val_categorical_accuracy: 0.8400 - lr: 1.0483e-05\n",
            "Epoch 123/200\n",
            "100/100 [==============================] - 15s 150ms/step - loss: 0.1725 - categorical_accuracy: 0.9250 - val_loss: 0.2988 - val_categorical_accuracy: 0.9300 - lr: 1.0483e-05\n",
            "Epoch 124/200\n",
            "100/100 [==============================] - 15s 147ms/step - loss: 0.1953 - categorical_accuracy: 0.8900 - val_loss: 0.4407 - val_categorical_accuracy: 0.8800 - lr: 1.0483e-05\n",
            "Epoch 125/200\n",
            "100/100 [==============================] - 11s 103ms/step - loss: 0.1724 - categorical_accuracy: 0.9300 - val_loss: 0.4176 - val_categorical_accuracy: 0.8800 - lr: 1.0483e-05\n",
            "Epoch 126/200\n",
            "100/100 [==============================] - 15s 148ms/step - loss: 0.1597 - categorical_accuracy: 0.9350 - val_loss: 0.4809 - val_categorical_accuracy: 0.8650 - lr: 8.7355e-06\n",
            "Epoch 127/200\n",
            "100/100 [==============================] - 15s 151ms/step - loss: 0.2383 - categorical_accuracy: 0.9050 - val_loss: 0.2356 - val_categorical_accuracy: 0.9300 - lr: 8.7355e-06\n",
            "Epoch 128/200\n",
            "100/100 [==============================] - 14s 140ms/step - loss: 0.1844 - categorical_accuracy: 0.9150 - val_loss: 0.4937 - val_categorical_accuracy: 0.8550 - lr: 8.7355e-06\n",
            "Epoch 129/200\n",
            "100/100 [==============================] - 14s 141ms/step - loss: 0.2056 - categorical_accuracy: 0.8950 - val_loss: 0.3416 - val_categorical_accuracy: 0.8800 - lr: 8.7355e-06\n",
            "Epoch 130/200\n",
            "100/100 [==============================] - 15s 147ms/step - loss: 0.1724 - categorical_accuracy: 0.9000 - val_loss: 0.3012 - val_categorical_accuracy: 0.9050 - lr: 8.7355e-06\n",
            "Epoch 131/200\n",
            "100/100 [==============================] - 11s 99ms/step - loss: 0.2326 - categorical_accuracy: 0.8900 - val_loss: 0.4181 - val_categorical_accuracy: 0.8500 - lr: 7.2796e-06\n",
            "Epoch 132/200\n",
            "100/100 [==============================] - 15s 147ms/step - loss: 0.1946 - categorical_accuracy: 0.9100 - val_loss: 0.5665 - val_categorical_accuracy: 0.8400 - lr: 7.2796e-06\n",
            "Epoch 133/200\n",
            "100/100 [==============================] - 14s 140ms/step - loss: 0.1226 - categorical_accuracy: 0.9600 - val_loss: 0.5164 - val_categorical_accuracy: 0.8350 - lr: 7.2796e-06\n",
            "Epoch 134/200\n",
            "100/100 [==============================] - 15s 146ms/step - loss: 0.2064 - categorical_accuracy: 0.9050 - val_loss: 0.5039 - val_categorical_accuracy: 0.8500 - lr: 7.2796e-06\n",
            "Epoch 135/200\n",
            "100/100 [==============================] - 15s 144ms/step - loss: 0.2276 - categorical_accuracy: 0.8800 - val_loss: 0.3871 - val_categorical_accuracy: 0.8750 - lr: 7.2796e-06\n",
            "Epoch 136/200\n",
            "100/100 [==============================] - 15s 148ms/step - loss: 0.1569 - categorical_accuracy: 0.9450 - val_loss: 0.4454 - val_categorical_accuracy: 0.8750 - lr: 6.0663e-06\n",
            "Epoch 137/200\n",
            "100/100 [==============================] - 11s 105ms/step - loss: 0.1988 - categorical_accuracy: 0.8900 - val_loss: 0.3286 - val_categorical_accuracy: 0.8900 - lr: 6.0663e-06\n",
            "Epoch 138/200\n",
            "100/100 [==============================] - 15s 143ms/step - loss: 0.2061 - categorical_accuracy: 0.9200 - val_loss: 0.4067 - val_categorical_accuracy: 0.8500 - lr: 6.0663e-06\n",
            "Epoch 139/200\n",
            "100/100 [==============================] - 15s 147ms/step - loss: 0.1853 - categorical_accuracy: 0.9050 - val_loss: 0.3045 - val_categorical_accuracy: 0.9150 - lr: 6.0663e-06\n",
            "Epoch 140/200\n",
            "100/100 [==============================] - 15s 142ms/step - loss: 0.2484 - categorical_accuracy: 0.8900 - val_loss: 0.4561 - val_categorical_accuracy: 0.8800 - lr: 6.0663e-06\n",
            "Epoch 141/200\n",
            "100/100 [==============================] - 15s 141ms/step - loss: 0.1875 - categorical_accuracy: 0.9050 - val_loss: 0.4131 - val_categorical_accuracy: 0.8600 - lr: 5.0553e-06\n",
            "Epoch 142/200\n",
            "100/100 [==============================] - 15s 144ms/step - loss: 0.1715 - categorical_accuracy: 0.9250 - val_loss: 0.5139 - val_categorical_accuracy: 0.8450 - lr: 5.0553e-06\n",
            "Epoch 143/200\n",
            "100/100 [==============================] - 15s 143ms/step - loss: 0.3181 - categorical_accuracy: 0.8900 - val_loss: 0.4031 - val_categorical_accuracy: 0.8750 - lr: 5.0553e-06\n",
            "Epoch 144/200\n",
            "100/100 [==============================] - 15s 142ms/step - loss: 0.0945 - categorical_accuracy: 0.9500 - val_loss: 0.5028 - val_categorical_accuracy: 0.8400 - lr: 5.0553e-06\n",
            "Epoch 145/200\n",
            "100/100 [==============================] - 11s 103ms/step - loss: 0.1524 - categorical_accuracy: 0.9300 - val_loss: 0.4296 - val_categorical_accuracy: 0.8600 - lr: 5.0553e-06\n",
            "Epoch 146/200\n",
            "100/100 [==============================] - 15s 145ms/step - loss: 0.2082 - categorical_accuracy: 0.9150 - val_loss: 0.3768 - val_categorical_accuracy: 0.8800 - lr: 4.2127e-06\n",
            "Epoch 147/200\n",
            "100/100 [==============================] - 15s 142ms/step - loss: 0.1855 - categorical_accuracy: 0.9050 - val_loss: 0.3516 - val_categorical_accuracy: 0.8900 - lr: 4.2127e-06\n",
            "Epoch 148/200\n",
            "100/100 [==============================] - 15s 148ms/step - loss: 0.1829 - categorical_accuracy: 0.9300 - val_loss: 0.5756 - val_categorical_accuracy: 0.8400 - lr: 4.2127e-06\n",
            "Epoch 149/200\n",
            "100/100 [==============================] - 15s 141ms/step - loss: 0.2068 - categorical_accuracy: 0.9100 - val_loss: 0.4316 - val_categorical_accuracy: 0.8750 - lr: 4.2127e-06\n",
            "Epoch 150/200\n",
            "100/100 [==============================] - 15s 143ms/step - loss: 0.1400 - categorical_accuracy: 0.9300 - val_loss: 0.3384 - val_categorical_accuracy: 0.8900 - lr: 4.2127e-06\n",
            "Epoch 151/200\n",
            "100/100 [==============================] - 15s 147ms/step - loss: 0.1742 - categorical_accuracy: 0.9150 - val_loss: 0.4865 - val_categorical_accuracy: 0.8700 - lr: 3.5106e-06\n",
            "Epoch 152/200\n",
            "100/100 [==============================] - 15s 145ms/step - loss: 0.1731 - categorical_accuracy: 0.9250 - val_loss: 0.4447 - val_categorical_accuracy: 0.8950 - lr: 3.5106e-06\n",
            "Epoch 153/200\n",
            "100/100 [==============================] - 15s 148ms/step - loss: 0.2171 - categorical_accuracy: 0.8950 - val_loss: 0.3901 - val_categorical_accuracy: 0.9000 - lr: 3.5106e-06\n",
            "Epoch 154/200\n",
            "100/100 [==============================] - 15s 142ms/step - loss: 0.1858 - categorical_accuracy: 0.9150 - val_loss: 0.3388 - val_categorical_accuracy: 0.8900 - lr: 3.5106e-06\n",
            "Epoch 155/200\n",
            "100/100 [==============================] - 14s 141ms/step - loss: 0.2247 - categorical_accuracy: 0.8900 - val_loss: 0.5412 - val_categorical_accuracy: 0.8700 - lr: 3.5106e-06\n",
            "Epoch 156/200\n",
            "100/100 [==============================] - 13s 123ms/step - loss: 0.2353 - categorical_accuracy: 0.8600 - val_loss: 0.4058 - val_categorical_accuracy: 0.9000 - lr: 2.9255e-06\n",
            "Epoch 157/200\n",
            "100/100 [==============================] - 15s 146ms/step - loss: 0.1641 - categorical_accuracy: 0.9300 - val_loss: 0.3164 - val_categorical_accuracy: 0.9000 - lr: 2.9255e-06\n",
            "Epoch 158/200\n",
            "100/100 [==============================] - 15s 145ms/step - loss: 0.1303 - categorical_accuracy: 0.9250 - val_loss: 0.5211 - val_categorical_accuracy: 0.8500 - lr: 2.9255e-06\n",
            "Epoch 159/200\n",
            "100/100 [==============================] - 15s 147ms/step - loss: 0.1996 - categorical_accuracy: 0.8950 - val_loss: 0.3724 - val_categorical_accuracy: 0.8700 - lr: 2.9255e-06\n",
            "Epoch 160/200\n",
            "100/100 [==============================] - 15s 149ms/step - loss: 0.1936 - categorical_accuracy: 0.9250 - val_loss: 0.4859 - val_categorical_accuracy: 0.8750 - lr: 2.9255e-06\n",
            "Epoch 161/200\n",
            "100/100 [==============================] - 15s 141ms/step - loss: 0.1363 - categorical_accuracy: 0.9500 - val_loss: 0.4231 - val_categorical_accuracy: 0.8850 - lr: 2.4379e-06\n",
            "Epoch 162/200\n",
            "100/100 [==============================] - 11s 104ms/step - loss: 0.1542 - categorical_accuracy: 0.9450 - val_loss: 0.4045 - val_categorical_accuracy: 0.8900 - lr: 2.4379e-06\n",
            "Epoch 163/200\n",
            "100/100 [==============================] - 15s 149ms/step - loss: 0.1746 - categorical_accuracy: 0.9200 - val_loss: 0.3341 - val_categorical_accuracy: 0.9000 - lr: 2.4379e-06\n",
            "Epoch 164/200\n",
            "100/100 [==============================] - 15s 148ms/step - loss: 0.1933 - categorical_accuracy: 0.9150 - val_loss: 0.5099 - val_categorical_accuracy: 0.8450 - lr: 2.4379e-06\n",
            "Epoch 165/200\n",
            "100/100 [==============================] - 15s 144ms/step - loss: 0.1351 - categorical_accuracy: 0.9350 - val_loss: 0.5386 - val_categorical_accuracy: 0.8650 - lr: 2.4379e-06\n",
            "Epoch 166/200\n",
            "100/100 [==============================] - 14s 141ms/step - loss: 0.1840 - categorical_accuracy: 0.9350 - val_loss: 0.3673 - val_categorical_accuracy: 0.8900 - lr: 2.0316e-06\n",
            "Epoch 167/200\n",
            "100/100 [==============================] - 15s 145ms/step - loss: 0.1566 - categorical_accuracy: 0.9350 - val_loss: 0.4911 - val_categorical_accuracy: 0.8550 - lr: 2.0316e-06\n",
            "Epoch 168/200\n",
            "100/100 [==============================] - 15s 146ms/step - loss: 0.2514 - categorical_accuracy: 0.8850 - val_loss: 0.3886 - val_categorical_accuracy: 0.8600 - lr: 2.0316e-06\n",
            "Epoch 169/200\n",
            "100/100 [==============================] - 15s 144ms/step - loss: 0.1372 - categorical_accuracy: 0.9350 - val_loss: 0.3924 - val_categorical_accuracy: 0.8700 - lr: 2.0316e-06\n",
            "Epoch 170/200\n",
            "100/100 [==============================] - 17s 164ms/step - loss: 0.2494 - categorical_accuracy: 0.8800 - val_loss: 0.5873 - val_categorical_accuracy: 0.8300 - lr: 2.0316e-06\n",
            "Epoch 171/200\n",
            "100/100 [==============================] - 15s 150ms/step - loss: 0.1797 - categorical_accuracy: 0.9150 - val_loss: 0.4140 - val_categorical_accuracy: 0.8850 - lr: 1.6930e-06\n",
            "Epoch 172/200\n",
            "100/100 [==============================] - 15s 147ms/step - loss: 0.1909 - categorical_accuracy: 0.9000 - val_loss: 0.3675 - val_categorical_accuracy: 0.8750 - lr: 1.6930e-06\n",
            "Epoch 173/200\n",
            "100/100 [==============================] - 15s 147ms/step - loss: 0.1435 - categorical_accuracy: 0.9100 - val_loss: 0.4868 - val_categorical_accuracy: 0.8600 - lr: 1.6930e-06\n",
            "Epoch 174/200\n",
            "100/100 [==============================] - 11s 105ms/step - loss: 0.1785 - categorical_accuracy: 0.9200 - val_loss: 0.5097 - val_categorical_accuracy: 0.8600 - lr: 1.6930e-06\n",
            "Epoch 175/200\n",
            "100/100 [==============================] - 15s 145ms/step - loss: 0.1907 - categorical_accuracy: 0.9050 - val_loss: 0.4347 - val_categorical_accuracy: 0.8700 - lr: 1.6930e-06\n",
            "Epoch 176/200\n",
            "100/100 [==============================] - 13s 127ms/step - loss: 0.2172 - categorical_accuracy: 0.8850 - val_loss: 0.4359 - val_categorical_accuracy: 0.8500 - lr: 1.4108e-06\n",
            "Epoch 177/200\n",
            "100/100 [==============================] - 15s 148ms/step - loss: 0.1721 - categorical_accuracy: 0.9300 - val_loss: 0.4883 - val_categorical_accuracy: 0.8450 - lr: 1.4108e-06\n",
            "Epoch 178/200\n",
            "100/100 [==============================] - 15s 149ms/step - loss: 0.1456 - categorical_accuracy: 0.9350 - val_loss: 0.4438 - val_categorical_accuracy: 0.8700 - lr: 1.4108e-06\n",
            "Epoch 179/200\n",
            "100/100 [==============================] - 15s 147ms/step - loss: 0.2189 - categorical_accuracy: 0.9000 - val_loss: 0.4175 - val_categorical_accuracy: 0.8650 - lr: 1.4108e-06\n",
            "Epoch 180/200\n",
            "100/100 [==============================] - 15s 145ms/step - loss: 0.1883 - categorical_accuracy: 0.9300 - val_loss: 0.3683 - val_categorical_accuracy: 0.8500 - lr: 1.4108e-06\n",
            "Epoch 181/200\n",
            "100/100 [==============================] - 12s 118ms/step - loss: 0.1516 - categorical_accuracy: 0.9400 - val_loss: 0.3527 - val_categorical_accuracy: 0.8850 - lr: 1.1757e-06\n",
            "Epoch 182/200\n",
            "100/100 [==============================] - 14s 140ms/step - loss: 0.1433 - categorical_accuracy: 0.9400 - val_loss: 0.3410 - val_categorical_accuracy: 0.8850 - lr: 1.1757e-06\n",
            "Epoch 183/200\n",
            "100/100 [==============================] - 14s 141ms/step - loss: 0.1665 - categorical_accuracy: 0.9250 - val_loss: 0.3765 - val_categorical_accuracy: 0.8500 - lr: 1.1757e-06\n",
            "Epoch 184/200\n",
            "100/100 [==============================] - 15s 147ms/step - loss: 0.1403 - categorical_accuracy: 0.9400 - val_loss: 0.4483 - val_categorical_accuracy: 0.8950 - lr: 1.1757e-06\n",
            "Epoch 185/200\n",
            "100/100 [==============================] - 15s 149ms/step - loss: 0.1526 - categorical_accuracy: 0.9100 - val_loss: 0.3659 - val_categorical_accuracy: 0.8900 - lr: 1.1757e-06\n",
            "Epoch 186/200\n",
            "100/100 [==============================] - 11s 102ms/step - loss: 0.2141 - categorical_accuracy: 0.9000 - val_loss: 0.3620 - val_categorical_accuracy: 0.8750 - lr: 9.7974e-07\n",
            "Epoch 187/200\n",
            "100/100 [==============================] - 15s 142ms/step - loss: 0.1436 - categorical_accuracy: 0.9300 - val_loss: 0.4534 - val_categorical_accuracy: 0.8550 - lr: 9.7974e-07\n",
            "Epoch 188/200\n",
            "100/100 [==============================] - 15s 144ms/step - loss: 0.1836 - categorical_accuracy: 0.9000 - val_loss: 0.3563 - val_categorical_accuracy: 0.8850 - lr: 9.7974e-07\n",
            "Epoch 189/200\n",
            "100/100 [==============================] - 15s 146ms/step - loss: 0.1684 - categorical_accuracy: 0.9100 - val_loss: 0.3721 - val_categorical_accuracy: 0.8700 - lr: 9.7974e-07\n",
            "Epoch 190/200\n",
            "100/100 [==============================] - 15s 148ms/step - loss: 0.1753 - categorical_accuracy: 0.9050 - val_loss: 0.4473 - val_categorical_accuracy: 0.8850 - lr: 9.7974e-07\n",
            "Epoch 191/200\n",
            "100/100 [==============================] - 15s 150ms/step - loss: 0.1692 - categorical_accuracy: 0.9250 - val_loss: 0.5288 - val_categorical_accuracy: 0.8500 - lr: 8.1645e-07\n",
            "Epoch 192/200\n",
            "100/100 [==============================] - 15s 143ms/step - loss: 0.2300 - categorical_accuracy: 0.8550 - val_loss: 0.3831 - val_categorical_accuracy: 0.8900 - lr: 8.1645e-07\n",
            "Epoch 193/200\n",
            "100/100 [==============================] - 15s 143ms/step - loss: 0.2024 - categorical_accuracy: 0.9050 - val_loss: 0.3876 - val_categorical_accuracy: 0.8750 - lr: 8.1645e-07\n",
            "Epoch 194/200\n",
            "100/100 [==============================] - 15s 145ms/step - loss: 0.1795 - categorical_accuracy: 0.9150 - val_loss: 0.4160 - val_categorical_accuracy: 0.8850 - lr: 8.1645e-07\n",
            "Epoch 195/200\n",
            "100/100 [==============================] - 15s 147ms/step - loss: 0.2012 - categorical_accuracy: 0.9050 - val_loss: 0.3278 - val_categorical_accuracy: 0.9000 - lr: 8.1645e-07\n",
            "Epoch 196/200\n",
            "100/100 [==============================] - 13s 123ms/step - loss: 0.2267 - categorical_accuracy: 0.9050 - val_loss: 0.3653 - val_categorical_accuracy: 0.8800 - lr: 6.8038e-07\n",
            "Epoch 197/200\n",
            "100/100 [==============================] - 15s 149ms/step - loss: 0.2211 - categorical_accuracy: 0.9000 - val_loss: 0.4585 - val_categorical_accuracy: 0.8600 - lr: 6.8038e-07\n",
            "Epoch 198/200\n",
            "100/100 [==============================] - 15s 149ms/step - loss: 0.1817 - categorical_accuracy: 0.9400 - val_loss: 0.3329 - val_categorical_accuracy: 0.8900 - lr: 6.8038e-07\n",
            "Epoch 199/200\n",
            "100/100 [==============================] - 15s 145ms/step - loss: 0.1789 - categorical_accuracy: 0.9200 - val_loss: 0.4934 - val_categorical_accuracy: 0.8300 - lr: 6.8038e-07\n",
            "Epoch 200/200\n",
            "100/100 [==============================] - 15s 146ms/step - loss: 0.1962 - categorical_accuracy: 0.9000 - val_loss: 0.4193 - val_categorical_accuracy: 0.8750 - lr: 6.8038e-07\n"
          ]
        }
      ],
      "source": [
        "train_way = 2\n",
        "val_way = 2\n",
        "query = 5\n",
        "shot = 5\n",
        "n=80\n",
        "lr=0.001\n",
        "dim=(231,231,1)\n",
        "\n",
        "from tensorflow.keras import callbacks as cb\n",
        "\n",
        "def scheduler(epoch):\n",
        "    global lr\n",
        "    if epoch%5 == 0:\n",
        "        lr/= 1.2\n",
        "    return lr\n",
        "\n",
        "if __name__ == \"__main__\":\n",
        "    conv = conv_net(dim)\n",
        "    conv_5d = TimeDistributed(conv)\n",
        "    input_shape = (None,231,231,1)\n",
        "    sample = Input(input_shape)\n",
        "    out_feature = conv_5d(sample)\n",
        "    out_feature = Lambda(reduce_tensor)(out_feature)\n",
        "\n",
        "    inp = Input(input_shape)\n",
        "    map_feature = conv_5d(inp)\n",
        "    map_feature = Lambda(reduce_tensor)(map_feature)\n",
        "\n",
        "    pred = Lambda(proto_dist)([normalise(out_feature), normalise(map_feature)]) #negative distance\n",
        "\n",
        "    combine1 = Model([sample, inp], pred)\n",
        "    optimizer = Adam(0.001)\n",
        "    combine1.compile(loss='categorical_crossentropy', optimizer=optimizer, metrics=['categorical_accuracy'])\n",
        "    print(combine1.summary())\n",
        "\n",
        " #.........................................................................................\n",
        "    train_loader = Data_GeneratorRavi(way=train_way,vway=val_way, datatype='train',num_per_class=n,query=query, shot=shot, num_batch=100)\n",
        "    val_loader = Data_GeneratorRavi(way=train_way,vway=val_way, datatype='val',num_per_class=n, shot=shot, num_batch=100)\n",
        "\n",
        "    reduce_lr = cb.ReduceLROnPlateau(monitor='val_loss', factor=0.4,patience=2, min_lr=1e-8)\n",
        "    lr_sched = cb.LearningRateScheduler(scheduler)\n",
        "    tensorboard = cb.TensorBoard()\n",
        "\n",
        "    history3=combine1.fit_generator(train_loader,epochs=200,validation_data=val_loader, use_multiprocessing=True, workers=4, shuffle=True, callbacks=[ lr_sched, tensorboard])\n",
        "\n",
        "combine1.save(\"Model/brats2019.h5\")\n",
        "np.save('Model/brats2019.npy',history3.history)\n"
      ]
    },
    {
      "cell_type": "code",
      "execution_count": null,
      "metadata": {
        "id": "ZLn7P77BdUxc"
      },
      "outputs": [],
      "source": [
        "combine1.save(\"Model/brats2019.h5\")\n",
        "np.save('Model/brats2019.npy',history3.history)"
      ]
    },
    {
      "cell_type": "code",
      "execution_count": null,
      "metadata": {
        "id": "6YkAkqh3dVSq"
      },
      "outputs": [],
      "source": [
        "combine1.save(\"Model/BrainImage.h5\")\n",
        "np.save('Model/BrainImage.npy',history3.history)"
      ]
    },
    {
      "cell_type": "code",
      "execution_count": null,
      "metadata": {
        "colab": {
          "base_uri": "https://localhost:8080/"
        },
        "id": "RB7eXytuLKAQ",
        "outputId": "66a8b016-357a-4f42-c937-e2ef02811675"
      },
      "outputs": [
        {
          "output_type": "stream",
          "name": "stdout",
          "text": [
            "Training accuracy\n",
            "1000/1000 [==============================] - 15s 15ms/step - loss: 0.4664 - categorical_accuracy: 0.8400\n",
            "Testing accuracy\n",
            "1000/1000 [==============================] - 15s 15ms/step - loss: 0.5116 - categorical_accuracy: 0.8260\n",
            "Validating accuracy\n",
            "1000/1000 [==============================] - 15s 15ms/step - loss: 0.4401 - categorical_accuracy: 0.8705\n"
          ]
        }
      ],
      "source": [
        "\n",
        "train_way =2\n",
        "val_way = 2\n",
        "query = 1\n",
        "shot = 5\n",
        "result=[]\n",
        "\n",
        "#m3=load_model('Model/BrainImage.h5')\n",
        "m3=combine1\n",
        "train_loader=Data_GeneratorRavi(way=train_way,vway=val_way, datatype='train',num_per_class=n,query=query, shot=shot, num_batch=1000)\n",
        "test_loader=Data_GeneratorRavi(way=train_way,vway=val_way, datatype='test',num_per_class=n,query=query, shot=shot, num_batch=1000)\n",
        "val_loader = Data_GeneratorRavi(way=train_way,vway=val_way, datatype='val',num_per_class=n,query=query, shot=shot, num_batch=1000)\n",
        "\n",
        "(x1,y1),z1 = train_loader[0]\n",
        "print(\"Training accuracy\")\n",
        "result=m3.evaluate(train_loader)\n",
        "\n",
        "(x1,y1),z1 = test_loader[0]\n",
        "print(\"Testing accuracy\")\n",
        "result=m3.evaluate(test_loader)\n",
        "\n",
        "(x1,y1),z1 = val_loader[0]\n",
        "print(\"Validating accuracy\")\n",
        "result=m3.evaluate(val_loader)\n",
        "\n"
      ]
    },
    {
      "cell_type": "code",
      "execution_count": null,
      "metadata": {
        "colab": {
          "base_uri": "https://localhost:8080/",
          "height": 927
        },
        "id": "8dCNZxwOPYJt",
        "outputId": "4a0340a1-f321-4988-b182-68218f52e88e"
      },
      "outputs": [
        {
          "output_type": "display_data",
          "data": {
            "text/plain": [
              "<Figure size 640x480 with 1 Axes>"
            ],
            "image/png": "[encoded data removed]"
          },
          "metadata": {}
        },
        {
          "output_type": "display_data",
          "data": {
            "text/plain": [
              "<Figure size 640x480 with 1 Axes>"
            ],
            "image/png": "[encoded data removed]"
          },
          "metadata": {}
        }
      ],
      "source": [
        "\n",
        "\n",
        "# Load the training history\n",
        "history = np.load('Model/brats2019.npy', allow_pickle=True).item()\n",
        "\n",
        "# Plot the training accuracy\n",
        "plt.plot(history['categorical_accuracy'], 'b')\n",
        "plt.title('Training Accuracy')\n",
        "plt.xlabel('Epoch')\n",
        "plt.ylabel('Accuracy')\n",
        "plt.show()\n",
        "\n",
        "# Plot the validation accuracy\n",
        "plt.plot(history['val_categorical_accuracy'], 'g')\n",
        "plt.title('Validation Accuracy')\n",
        "plt.xlabel('Epoch')\n",
        "plt.ylabel('Accuracy')\n",
        "plt.show()"
      ]
    }
  ],
  "metadata": {
    "accelerator": "GPU",
    "colab": {
      "provenance": [],
      "include_colab_link": true
    },
    "gpuClass": "standard",
    "kernelspec": {
      "display_name": "Python 3",
      "name": "python3"
    },
    "language_info": {
      "name": "python"
    }
  },
  "nbformat": 4,
  "nbformat_minor": 0
}